{
  "nbformat": 4,
  "nbformat_minor": 0,
  "metadata": {
    "colab": {
      "provenance": [],
      "gpuType": "T4"
    },
    "kernelspec": {
      "name": "python3",
      "display_name": "Python 3"
    },
    "language_info": {
      "name": "python"
    },
    "accelerator": "GPU"
  },
  "cells": [
    {
      "cell_type": "markdown",
      "source": [
        "# Regression with DNN"
      ],
      "metadata": {
        "id": "657JLvobVUwO"
      }
    },
    {
      "cell_type": "markdown",
      "source": [
        "**Objectives :**\n",
        "\n",
        "* Predicts housing prices from a set of house features.\n",
        "* Understanding the principle and the architecture of a regression with a dense neural network with backup and restore of the trained model.\n",
        "\n",
        "The [Boston Housing Prices Dataset](https://www.cs.toronto.edu/~delve/data/boston/bostonDetail.html) consists of price of houses in various places in Boston.\n",
        "Alongside with price, the dataset also provide these information :\n",
        "\n",
        "* CRIM: This is the per capita crime rate by town\n",
        "* ZN: This is the proportion of residential land zoned for lots larger than 25,000 sq.ft\n",
        "* INDUS: This is the proportion of non-retail business acres per town\n",
        "* CHAS: This is the Charles River dummy variable (this is equal to 1 if tract bounds river; 0 otherwise)\n",
        "* NOX: This is the nitric oxides concentration (parts per 10 million)\n",
        "* RM: This is the average number of rooms per dwelling\n",
        "* AGE: This is the proportion of owner-occupied units built prior to 1940\n",
        "* DIS: This is the weighted distances to five Boston employment centers\n",
        "* RAD: This is the index of accessibility to radial highways\n",
        "* TAX: This is the full-value property-tax rate per 10,000 dollars\n",
        "* PTRATIO: This is the pupil-teacher ratio by town\n",
        "* B: This is calculated as 1000(Bk — 0.63)^2, where Bk is the proportion of people of African American descent by town\n",
        "* LSTAT: This is the percentage lower status of the population\n",
        "* MEDV: This is the median value of owner-occupied homes in 1000 dollars\n",
        "\n",
        "**What we're going to do :**\n",
        "\n",
        "* (Retrieve data)\n",
        "* (Preparing the data)\n",
        "* (Build a model)\n",
        "* Train and save the model\n",
        "* Restore saved model\n",
        "* Evaluate the model\n",
        "* Make some predictions\n"
      ],
      "metadata": {
        "id": "o5woqp05VuWR"
      }
    },
    {
      "cell_type": "code",
      "execution_count": null,
      "metadata": {
        "id": "X_N8j7NlK95Q"
      },
      "outputs": [],
      "source": [
        "# import os\n",
        "# os.environ['TF_CPP_MIN_LOG_LEVEL'] = '2'\n",
        "\n",
        "import tensorflow as tf\n",
        "from tensorflow import keras\n",
        "\n",
        "import numpy as np\n",
        "import matplotlib.pyplot as plt\n",
        "import pandas as pd\n",
        "import os,sys\n",
        "\n",
        "from IPython.display import Markdown\n",
        "from importlib import reload\n"
      ]
    },
    {
      "cell_type": "code",
      "source": [
        "#from google.colab import files\n",
        "#uploaded = files.upload()"
      ],
      "metadata": {
        "id": "JSBaR2oheVaV"
      },
      "execution_count": null,
      "outputs": []
    },
    {
      "cell_type": "markdown",
      "source": [
        "Load the boston housing dataset"
      ],
      "metadata": {
        "id": "6d8HIl4AM1Dx"
      }
    },
    {
      "cell_type": "code",
      "source": [
        "import pandas as pd\n",
        "from google.colab import drive\n",
        "drive.mount('/content/gdrive')\n",
        "data = pd.read_csv('gdrive/My Drive/ESILV_A4/BostonHousing.csv', sep=',',header=0)"
      ],
      "metadata": {
        "colab": {
          "base_uri": "https://localhost:8080/"
        },
        "id": "KdjivSeQdX6M",
        "outputId": "48f9631f-5dfa-4e0a-b59f-29a6f5da7408"
      },
      "execution_count": null,
      "outputs": [
        {
          "output_type": "stream",
          "name": "stdout",
          "text": [
            "Mounted at /content/gdrive\n"
          ]
        }
      ]
    },
    {
      "cell_type": "code",
      "source": [
        "#!gdown --id 1KPtqvNpUKMxx81TpMbgMB7GIXahZUO86\n",
        "#data = pd.read_csv('BostonHousing.csv', sep=',',header=0)"
      ],
      "metadata": {
        "id": "SBPpGYr_3mfl"
      },
      "execution_count": null,
      "outputs": []
    },
    {
      "cell_type": "code",
      "source": [
        "\n",
        "\n",
        "display(data.head(5).style.format(\"{0:.2f}\"))\n",
        "print('Missing Data : ',data.isna().sum().sum(), '  Shape is : ', data.shape)\n",
        "\n"
      ],
      "metadata": {
        "id": "V_wB6gOtYZg5",
        "colab": {
          "base_uri": "https://localhost:8080/",
          "height": 243
        },
        "outputId": "43d15909-578e-416c-af2b-bcecbdf1620c"
      },
      "execution_count": null,
      "outputs": [
        {
          "output_type": "display_data",
          "data": {
            "text/plain": [
              "<pandas.io.formats.style.Styler at 0x7a0090af7bb0>"
            ],
            "text/html": [
              "<style type=\"text/css\">\n",
              "</style>\n",
              "<table id=\"T_e764b\" class=\"dataframe\">\n",
              "  <thead>\n",
              "    <tr>\n",
              "      <th class=\"blank level0\" >&nbsp;</th>\n",
              "      <th id=\"T_e764b_level0_col0\" class=\"col_heading level0 col0\" >crim</th>\n",
              "      <th id=\"T_e764b_level0_col1\" class=\"col_heading level0 col1\" >zn</th>\n",
              "      <th id=\"T_e764b_level0_col2\" class=\"col_heading level0 col2\" >indus</th>\n",
              "      <th id=\"T_e764b_level0_col3\" class=\"col_heading level0 col3\" >chas</th>\n",
              "      <th id=\"T_e764b_level0_col4\" class=\"col_heading level0 col4\" >nox</th>\n",
              "      <th id=\"T_e764b_level0_col5\" class=\"col_heading level0 col5\" >rm</th>\n",
              "      <th id=\"T_e764b_level0_col6\" class=\"col_heading level0 col6\" >age</th>\n",
              "      <th id=\"T_e764b_level0_col7\" class=\"col_heading level0 col7\" >dis</th>\n",
              "      <th id=\"T_e764b_level0_col8\" class=\"col_heading level0 col8\" >rad</th>\n",
              "      <th id=\"T_e764b_level0_col9\" class=\"col_heading level0 col9\" >tax</th>\n",
              "      <th id=\"T_e764b_level0_col10\" class=\"col_heading level0 col10\" >ptratio</th>\n",
              "      <th id=\"T_e764b_level0_col11\" class=\"col_heading level0 col11\" >b</th>\n",
              "      <th id=\"T_e764b_level0_col12\" class=\"col_heading level0 col12\" >lstat</th>\n",
              "      <th id=\"T_e764b_level0_col13\" class=\"col_heading level0 col13\" >medv</th>\n",
              "    </tr>\n",
              "  </thead>\n",
              "  <tbody>\n",
              "    <tr>\n",
              "      <th id=\"T_e764b_level0_row0\" class=\"row_heading level0 row0\" >0</th>\n",
              "      <td id=\"T_e764b_row0_col0\" class=\"data row0 col0\" >0.01</td>\n",
              "      <td id=\"T_e764b_row0_col1\" class=\"data row0 col1\" >18.00</td>\n",
              "      <td id=\"T_e764b_row0_col2\" class=\"data row0 col2\" >2.31</td>\n",
              "      <td id=\"T_e764b_row0_col3\" class=\"data row0 col3\" >0.00</td>\n",
              "      <td id=\"T_e764b_row0_col4\" class=\"data row0 col4\" >0.54</td>\n",
              "      <td id=\"T_e764b_row0_col5\" class=\"data row0 col5\" >6.58</td>\n",
              "      <td id=\"T_e764b_row0_col6\" class=\"data row0 col6\" >65.20</td>\n",
              "      <td id=\"T_e764b_row0_col7\" class=\"data row0 col7\" >4.09</td>\n",
              "      <td id=\"T_e764b_row0_col8\" class=\"data row0 col8\" >1.00</td>\n",
              "      <td id=\"T_e764b_row0_col9\" class=\"data row0 col9\" >296.00</td>\n",
              "      <td id=\"T_e764b_row0_col10\" class=\"data row0 col10\" >15.30</td>\n",
              "      <td id=\"T_e764b_row0_col11\" class=\"data row0 col11\" >396.90</td>\n",
              "      <td id=\"T_e764b_row0_col12\" class=\"data row0 col12\" >4.98</td>\n",
              "      <td id=\"T_e764b_row0_col13\" class=\"data row0 col13\" >24.00</td>\n",
              "    </tr>\n",
              "    <tr>\n",
              "      <th id=\"T_e764b_level0_row1\" class=\"row_heading level0 row1\" >1</th>\n",
              "      <td id=\"T_e764b_row1_col0\" class=\"data row1 col0\" >0.03</td>\n",
              "      <td id=\"T_e764b_row1_col1\" class=\"data row1 col1\" >0.00</td>\n",
              "      <td id=\"T_e764b_row1_col2\" class=\"data row1 col2\" >7.07</td>\n",
              "      <td id=\"T_e764b_row1_col3\" class=\"data row1 col3\" >0.00</td>\n",
              "      <td id=\"T_e764b_row1_col4\" class=\"data row1 col4\" >0.47</td>\n",
              "      <td id=\"T_e764b_row1_col5\" class=\"data row1 col5\" >6.42</td>\n",
              "      <td id=\"T_e764b_row1_col6\" class=\"data row1 col6\" >78.90</td>\n",
              "      <td id=\"T_e764b_row1_col7\" class=\"data row1 col7\" >4.97</td>\n",
              "      <td id=\"T_e764b_row1_col8\" class=\"data row1 col8\" >2.00</td>\n",
              "      <td id=\"T_e764b_row1_col9\" class=\"data row1 col9\" >242.00</td>\n",
              "      <td id=\"T_e764b_row1_col10\" class=\"data row1 col10\" >17.80</td>\n",
              "      <td id=\"T_e764b_row1_col11\" class=\"data row1 col11\" >396.90</td>\n",
              "      <td id=\"T_e764b_row1_col12\" class=\"data row1 col12\" >9.14</td>\n",
              "      <td id=\"T_e764b_row1_col13\" class=\"data row1 col13\" >21.60</td>\n",
              "    </tr>\n",
              "    <tr>\n",
              "      <th id=\"T_e764b_level0_row2\" class=\"row_heading level0 row2\" >2</th>\n",
              "      <td id=\"T_e764b_row2_col0\" class=\"data row2 col0\" >0.03</td>\n",
              "      <td id=\"T_e764b_row2_col1\" class=\"data row2 col1\" >0.00</td>\n",
              "      <td id=\"T_e764b_row2_col2\" class=\"data row2 col2\" >7.07</td>\n",
              "      <td id=\"T_e764b_row2_col3\" class=\"data row2 col3\" >0.00</td>\n",
              "      <td id=\"T_e764b_row2_col4\" class=\"data row2 col4\" >0.47</td>\n",
              "      <td id=\"T_e764b_row2_col5\" class=\"data row2 col5\" >7.18</td>\n",
              "      <td id=\"T_e764b_row2_col6\" class=\"data row2 col6\" >61.10</td>\n",
              "      <td id=\"T_e764b_row2_col7\" class=\"data row2 col7\" >4.97</td>\n",
              "      <td id=\"T_e764b_row2_col8\" class=\"data row2 col8\" >2.00</td>\n",
              "      <td id=\"T_e764b_row2_col9\" class=\"data row2 col9\" >242.00</td>\n",
              "      <td id=\"T_e764b_row2_col10\" class=\"data row2 col10\" >17.80</td>\n",
              "      <td id=\"T_e764b_row2_col11\" class=\"data row2 col11\" >392.83</td>\n",
              "      <td id=\"T_e764b_row2_col12\" class=\"data row2 col12\" >4.03</td>\n",
              "      <td id=\"T_e764b_row2_col13\" class=\"data row2 col13\" >34.70</td>\n",
              "    </tr>\n",
              "    <tr>\n",
              "      <th id=\"T_e764b_level0_row3\" class=\"row_heading level0 row3\" >3</th>\n",
              "      <td id=\"T_e764b_row3_col0\" class=\"data row3 col0\" >0.03</td>\n",
              "      <td id=\"T_e764b_row3_col1\" class=\"data row3 col1\" >0.00</td>\n",
              "      <td id=\"T_e764b_row3_col2\" class=\"data row3 col2\" >2.18</td>\n",
              "      <td id=\"T_e764b_row3_col3\" class=\"data row3 col3\" >0.00</td>\n",
              "      <td id=\"T_e764b_row3_col4\" class=\"data row3 col4\" >0.46</td>\n",
              "      <td id=\"T_e764b_row3_col5\" class=\"data row3 col5\" >7.00</td>\n",
              "      <td id=\"T_e764b_row3_col6\" class=\"data row3 col6\" >45.80</td>\n",
              "      <td id=\"T_e764b_row3_col7\" class=\"data row3 col7\" >6.06</td>\n",
              "      <td id=\"T_e764b_row3_col8\" class=\"data row3 col8\" >3.00</td>\n",
              "      <td id=\"T_e764b_row3_col9\" class=\"data row3 col9\" >222.00</td>\n",
              "      <td id=\"T_e764b_row3_col10\" class=\"data row3 col10\" >18.70</td>\n",
              "      <td id=\"T_e764b_row3_col11\" class=\"data row3 col11\" >394.63</td>\n",
              "      <td id=\"T_e764b_row3_col12\" class=\"data row3 col12\" >2.94</td>\n",
              "      <td id=\"T_e764b_row3_col13\" class=\"data row3 col13\" >33.40</td>\n",
              "    </tr>\n",
              "    <tr>\n",
              "      <th id=\"T_e764b_level0_row4\" class=\"row_heading level0 row4\" >4</th>\n",
              "      <td id=\"T_e764b_row4_col0\" class=\"data row4 col0\" >0.07</td>\n",
              "      <td id=\"T_e764b_row4_col1\" class=\"data row4 col1\" >0.00</td>\n",
              "      <td id=\"T_e764b_row4_col2\" class=\"data row4 col2\" >2.18</td>\n",
              "      <td id=\"T_e764b_row4_col3\" class=\"data row4 col3\" >0.00</td>\n",
              "      <td id=\"T_e764b_row4_col4\" class=\"data row4 col4\" >0.46</td>\n",
              "      <td id=\"T_e764b_row4_col5\" class=\"data row4 col5\" >7.15</td>\n",
              "      <td id=\"T_e764b_row4_col6\" class=\"data row4 col6\" >54.20</td>\n",
              "      <td id=\"T_e764b_row4_col7\" class=\"data row4 col7\" >6.06</td>\n",
              "      <td id=\"T_e764b_row4_col8\" class=\"data row4 col8\" >3.00</td>\n",
              "      <td id=\"T_e764b_row4_col9\" class=\"data row4 col9\" >222.00</td>\n",
              "      <td id=\"T_e764b_row4_col10\" class=\"data row4 col10\" >18.70</td>\n",
              "      <td id=\"T_e764b_row4_col11\" class=\"data row4 col11\" >396.90</td>\n",
              "      <td id=\"T_e764b_row4_col12\" class=\"data row4 col12\" >5.33</td>\n",
              "      <td id=\"T_e764b_row4_col13\" class=\"data row4 col13\" >36.20</td>\n",
              "    </tr>\n",
              "  </tbody>\n",
              "</table>\n"
            ]
          },
          "metadata": {}
        },
        {
          "output_type": "stream",
          "name": "stdout",
          "text": [
            "Missing Data :  0   Shape is :  (506, 14)\n"
          ]
        }
      ]
    },
    {
      "cell_type": "markdown",
      "source": [
        "## Exe 1: Data Preparation\n",
        "\n",
        "\n",
        "Use 70% of the data for training and 30% for validation.\n",
        "The dataset is shuffled and shared between learning and testing.\n",
        "x will be input data and y the expected output\n",
        "Check the data shape and sizes."
      ],
      "metadata": {
        "id": "uSJDYfo5fPHC"
      }
    },
    {
      "cell_type": "code",
      "source": [
        "# ---- Shuffle and Split => train, test\n",
        "#\n",
        "data       = data.sample(frac=1., axis=0)\n",
        "data_train = data.sample(frac=0.7, axis=0)\n",
        "data_test  = data.drop(data_train.index)\n",
        "\n",
        "# ---- Split => x,y (medv is price)\n",
        "#\n",
        "x_train = data_train.drop('medv',  axis=1)\n",
        "y_train = data_train['medv']\n",
        "x_test  = data_test.drop('medv',   axis=1)\n",
        "y_test  = data_test['medv']\n",
        "\n",
        "print('Original data shape was : ',data.shape)\n",
        "print('x_train : ',x_train.shape, 'y_train : ',y_train.shape)\n",
        "print('x_test  : ',x_test.shape,  'y_test  : ',y_test.shape)"
      ],
      "metadata": {
        "id": "w4qzQudGfPsH",
        "colab": {
          "base_uri": "https://localhost:8080/"
        },
        "outputId": "0c0b6698-0500-4833-e559-b06178ff425c"
      },
      "execution_count": null,
      "outputs": [
        {
          "output_type": "stream",
          "name": "stdout",
          "text": [
            "Original data shape was :  (506, 14)\n",
            "x_train :  (354, 13) y_train :  (354,)\n",
            "x_test  :  (152, 13) y_test  :  (152,)\n"
          ]
        }
      ]
    },
    {
      "cell_type": "markdown",
      "source": [
        "## Exe 2: Data normalization\n",
        "\n",
        "Normalizing data For each feature in the input data (a column in the\n",
        "input data matrix), subtract the mean of the feature and divide by the standard\n",
        "deviation\n",
        "\n",
        "**Note :**\n",
        "\n",
        "* All input data must be normalized, train and test.\n",
        "* To do this we will subtract the mean and divide by the standard deviation.\n",
        "* But test data should not be used in any way, even for normalization.\n",
        "* The mean and the standard deviation will therefore only be calculated with the train data.\n"
      ],
      "metadata": {
        "id": "kTIW5DG1gH3s"
      }
    },
    {
      "cell_type": "code",
      "source": [
        "display(x_train.describe().style.format(\"{0:.2f}\").set_caption(\"Before normalization :\"))\n",
        "\n",
        "mean = x_train.mean()\n",
        "std  = x_train.std()\n",
        "x_train = (x_train - mean) / std\n",
        "x_test = (x_test - mean) / std\n",
        "\n",
        "display(x_train.describe().style.format(\"{0:.2f}\").set_caption(\"After normalization :\"))\n",
        "display(x_train.head(5).style.format(\"{0:.2f}\").set_caption(\"Few lines of the dataset :\"))\n",
        "\n",
        "x_train, y_train = np.array(x_train), np.array(y_train)\n",
        "x_test,  y_test  = np.array(x_test), np.array(y_test)"
      ],
      "metadata": {
        "id": "irUk5OvCK9qm",
        "colab": {
          "base_uri": "https://localhost:8080/",
          "height": 844
        },
        "outputId": "18a0ad42-b4ea-4a24-e405-325d3ab11217"
      },
      "execution_count": null,
      "outputs": [
        {
          "output_type": "display_data",
          "data": {
            "text/plain": [
              "<pandas.io.formats.style.Styler at 0x7a0090af7cd0>"
            ],
            "text/html": [
              "<style type=\"text/css\">\n",
              "</style>\n",
              "<table id=\"T_d0aed\" class=\"dataframe\">\n",
              "  <caption>Before normalization :</caption>\n",
              "  <thead>\n",
              "    <tr>\n",
              "      <th class=\"blank level0\" >&nbsp;</th>\n",
              "      <th id=\"T_d0aed_level0_col0\" class=\"col_heading level0 col0\" >crim</th>\n",
              "      <th id=\"T_d0aed_level0_col1\" class=\"col_heading level0 col1\" >zn</th>\n",
              "      <th id=\"T_d0aed_level0_col2\" class=\"col_heading level0 col2\" >indus</th>\n",
              "      <th id=\"T_d0aed_level0_col3\" class=\"col_heading level0 col3\" >chas</th>\n",
              "      <th id=\"T_d0aed_level0_col4\" class=\"col_heading level0 col4\" >nox</th>\n",
              "      <th id=\"T_d0aed_level0_col5\" class=\"col_heading level0 col5\" >rm</th>\n",
              "      <th id=\"T_d0aed_level0_col6\" class=\"col_heading level0 col6\" >age</th>\n",
              "      <th id=\"T_d0aed_level0_col7\" class=\"col_heading level0 col7\" >dis</th>\n",
              "      <th id=\"T_d0aed_level0_col8\" class=\"col_heading level0 col8\" >rad</th>\n",
              "      <th id=\"T_d0aed_level0_col9\" class=\"col_heading level0 col9\" >tax</th>\n",
              "      <th id=\"T_d0aed_level0_col10\" class=\"col_heading level0 col10\" >ptratio</th>\n",
              "      <th id=\"T_d0aed_level0_col11\" class=\"col_heading level0 col11\" >b</th>\n",
              "      <th id=\"T_d0aed_level0_col12\" class=\"col_heading level0 col12\" >lstat</th>\n",
              "    </tr>\n",
              "  </thead>\n",
              "  <tbody>\n",
              "    <tr>\n",
              "      <th id=\"T_d0aed_level0_row0\" class=\"row_heading level0 row0\" >count</th>\n",
              "      <td id=\"T_d0aed_row0_col0\" class=\"data row0 col0\" >354.00</td>\n",
              "      <td id=\"T_d0aed_row0_col1\" class=\"data row0 col1\" >354.00</td>\n",
              "      <td id=\"T_d0aed_row0_col2\" class=\"data row0 col2\" >354.00</td>\n",
              "      <td id=\"T_d0aed_row0_col3\" class=\"data row0 col3\" >354.00</td>\n",
              "      <td id=\"T_d0aed_row0_col4\" class=\"data row0 col4\" >354.00</td>\n",
              "      <td id=\"T_d0aed_row0_col5\" class=\"data row0 col5\" >354.00</td>\n",
              "      <td id=\"T_d0aed_row0_col6\" class=\"data row0 col6\" >354.00</td>\n",
              "      <td id=\"T_d0aed_row0_col7\" class=\"data row0 col7\" >354.00</td>\n",
              "      <td id=\"T_d0aed_row0_col8\" class=\"data row0 col8\" >354.00</td>\n",
              "      <td id=\"T_d0aed_row0_col9\" class=\"data row0 col9\" >354.00</td>\n",
              "      <td id=\"T_d0aed_row0_col10\" class=\"data row0 col10\" >354.00</td>\n",
              "      <td id=\"T_d0aed_row0_col11\" class=\"data row0 col11\" >354.00</td>\n",
              "      <td id=\"T_d0aed_row0_col12\" class=\"data row0 col12\" >354.00</td>\n",
              "    </tr>\n",
              "    <tr>\n",
              "      <th id=\"T_d0aed_level0_row1\" class=\"row_heading level0 row1\" >mean</th>\n",
              "      <td id=\"T_d0aed_row1_col0\" class=\"data row1 col0\" >3.32</td>\n",
              "      <td id=\"T_d0aed_row1_col1\" class=\"data row1 col1\" >11.81</td>\n",
              "      <td id=\"T_d0aed_row1_col2\" class=\"data row1 col2\" >11.12</td>\n",
              "      <td id=\"T_d0aed_row1_col3\" class=\"data row1 col3\" >0.07</td>\n",
              "      <td id=\"T_d0aed_row1_col4\" class=\"data row1 col4\" >0.55</td>\n",
              "      <td id=\"T_d0aed_row1_col5\" class=\"data row1 col5\" >6.31</td>\n",
              "      <td id=\"T_d0aed_row1_col6\" class=\"data row1 col6\" >69.33</td>\n",
              "      <td id=\"T_d0aed_row1_col7\" class=\"data row1 col7\" >3.79</td>\n",
              "      <td id=\"T_d0aed_row1_col8\" class=\"data row1 col8\" >9.35</td>\n",
              "      <td id=\"T_d0aed_row1_col9\" class=\"data row1 col9\" >405.28</td>\n",
              "      <td id=\"T_d0aed_row1_col10\" class=\"data row1 col10\" >18.42</td>\n",
              "      <td id=\"T_d0aed_row1_col11\" class=\"data row1 col11\" >358.80</td>\n",
              "      <td id=\"T_d0aed_row1_col12\" class=\"data row1 col12\" >12.58</td>\n",
              "    </tr>\n",
              "    <tr>\n",
              "      <th id=\"T_d0aed_level0_row2\" class=\"row_heading level0 row2\" >std</th>\n",
              "      <td id=\"T_d0aed_row2_col0\" class=\"data row2 col0\" >8.22</td>\n",
              "      <td id=\"T_d0aed_row2_col1\" class=\"data row2 col1\" >23.88</td>\n",
              "      <td id=\"T_d0aed_row2_col2\" class=\"data row2 col2\" >6.94</td>\n",
              "      <td id=\"T_d0aed_row2_col3\" class=\"data row2 col3\" >0.25</td>\n",
              "      <td id=\"T_d0aed_row2_col4\" class=\"data row2 col4\" >0.11</td>\n",
              "      <td id=\"T_d0aed_row2_col5\" class=\"data row2 col5\" >0.73</td>\n",
              "      <td id=\"T_d0aed_row2_col6\" class=\"data row2 col6\" >27.75</td>\n",
              "      <td id=\"T_d0aed_row2_col7\" class=\"data row2 col7\" >2.15</td>\n",
              "      <td id=\"T_d0aed_row2_col8\" class=\"data row2 col8\" >8.49</td>\n",
              "      <td id=\"T_d0aed_row2_col9\" class=\"data row2 col9\" >165.37</td>\n",
              "      <td id=\"T_d0aed_row2_col10\" class=\"data row2 col10\" >2.21</td>\n",
              "      <td id=\"T_d0aed_row2_col11\" class=\"data row2 col11\" >87.35</td>\n",
              "      <td id=\"T_d0aed_row2_col12\" class=\"data row2 col12\" >7.05</td>\n",
              "    </tr>\n",
              "    <tr>\n",
              "      <th id=\"T_d0aed_level0_row3\" class=\"row_heading level0 row3\" >min</th>\n",
              "      <td id=\"T_d0aed_row3_col0\" class=\"data row3 col0\" >0.01</td>\n",
              "      <td id=\"T_d0aed_row3_col1\" class=\"data row3 col1\" >0.00</td>\n",
              "      <td id=\"T_d0aed_row3_col2\" class=\"data row3 col2\" >0.46</td>\n",
              "      <td id=\"T_d0aed_row3_col3\" class=\"data row3 col3\" >0.00</td>\n",
              "      <td id=\"T_d0aed_row3_col4\" class=\"data row3 col4\" >0.39</td>\n",
              "      <td id=\"T_d0aed_row3_col5\" class=\"data row3 col5\" >3.56</td>\n",
              "      <td id=\"T_d0aed_row3_col6\" class=\"data row3 col6\" >2.90</td>\n",
              "      <td id=\"T_d0aed_row3_col7\" class=\"data row3 col7\" >1.14</td>\n",
              "      <td id=\"T_d0aed_row3_col8\" class=\"data row3 col8\" >1.00</td>\n",
              "      <td id=\"T_d0aed_row3_col9\" class=\"data row3 col9\" >187.00</td>\n",
              "      <td id=\"T_d0aed_row3_col10\" class=\"data row3 col10\" >12.60</td>\n",
              "      <td id=\"T_d0aed_row3_col11\" class=\"data row3 col11\" >2.52</td>\n",
              "      <td id=\"T_d0aed_row3_col12\" class=\"data row3 col12\" >1.73</td>\n",
              "    </tr>\n",
              "    <tr>\n",
              "      <th id=\"T_d0aed_level0_row4\" class=\"row_heading level0 row4\" >25%</th>\n",
              "      <td id=\"T_d0aed_row4_col0\" class=\"data row4 col0\" >0.08</td>\n",
              "      <td id=\"T_d0aed_row4_col1\" class=\"data row4 col1\" >0.00</td>\n",
              "      <td id=\"T_d0aed_row4_col2\" class=\"data row4 col2\" >5.13</td>\n",
              "      <td id=\"T_d0aed_row4_col3\" class=\"data row4 col3\" >0.00</td>\n",
              "      <td id=\"T_d0aed_row4_col4\" class=\"data row4 col4\" >0.45</td>\n",
              "      <td id=\"T_d0aed_row4_col5\" class=\"data row4 col5\" >5.89</td>\n",
              "      <td id=\"T_d0aed_row4_col6\" class=\"data row4 col6\" >43.83</td>\n",
              "      <td id=\"T_d0aed_row4_col7\" class=\"data row4 col7\" >2.09</td>\n",
              "      <td id=\"T_d0aed_row4_col8\" class=\"data row4 col8\" >4.00</td>\n",
              "      <td id=\"T_d0aed_row4_col9\" class=\"data row4 col9\" >284.00</td>\n",
              "      <td id=\"T_d0aed_row4_col10\" class=\"data row4 col10\" >17.00</td>\n",
              "      <td id=\"T_d0aed_row4_col11\" class=\"data row4 col11\" >373.85</td>\n",
              "      <td id=\"T_d0aed_row4_col12\" class=\"data row4 col12\" >6.78</td>\n",
              "    </tr>\n",
              "    <tr>\n",
              "      <th id=\"T_d0aed_level0_row5\" class=\"row_heading level0 row5\" >50%</th>\n",
              "      <td id=\"T_d0aed_row5_col0\" class=\"data row5 col0\" >0.27</td>\n",
              "      <td id=\"T_d0aed_row5_col1\" class=\"data row5 col1\" >0.00</td>\n",
              "      <td id=\"T_d0aed_row5_col2\" class=\"data row5 col2\" >9.12</td>\n",
              "      <td id=\"T_d0aed_row5_col3\" class=\"data row5 col3\" >0.00</td>\n",
              "      <td id=\"T_d0aed_row5_col4\" class=\"data row5 col4\" >0.54</td>\n",
              "      <td id=\"T_d0aed_row5_col5\" class=\"data row5 col5\" >6.19</td>\n",
              "      <td id=\"T_d0aed_row5_col6\" class=\"data row5 col6\" >78.05</td>\n",
              "      <td id=\"T_d0aed_row5_col7\" class=\"data row5 col7\" >3.10</td>\n",
              "      <td id=\"T_d0aed_row5_col8\" class=\"data row5 col8\" >5.00</td>\n",
              "      <td id=\"T_d0aed_row5_col9\" class=\"data row5 col9\" >330.00</td>\n",
              "      <td id=\"T_d0aed_row5_col10\" class=\"data row5 col10\" >19.10</td>\n",
              "      <td id=\"T_d0aed_row5_col11\" class=\"data row5 col11\" >390.95</td>\n",
              "      <td id=\"T_d0aed_row5_col12\" class=\"data row5 col12\" >11.38</td>\n",
              "    </tr>\n",
              "    <tr>\n",
              "      <th id=\"T_d0aed_level0_row6\" class=\"row_heading level0 row6\" >75%</th>\n",
              "      <td id=\"T_d0aed_row6_col0\" class=\"data row6 col0\" >2.74</td>\n",
              "      <td id=\"T_d0aed_row6_col1\" class=\"data row6 col1\" >17.88</td>\n",
              "      <td id=\"T_d0aed_row6_col2\" class=\"data row6 col2\" >18.10</td>\n",
              "      <td id=\"T_d0aed_row6_col3\" class=\"data row6 col3\" >0.00</td>\n",
              "      <td id=\"T_d0aed_row6_col4\" class=\"data row6 col4\" >0.62</td>\n",
              "      <td id=\"T_d0aed_row6_col5\" class=\"data row6 col5\" >6.65</td>\n",
              "      <td id=\"T_d0aed_row6_col6\" class=\"data row6 col6\" >94.07</td>\n",
              "      <td id=\"T_d0aed_row6_col7\" class=\"data row6 col7\" >5.12</td>\n",
              "      <td id=\"T_d0aed_row6_col8\" class=\"data row6 col8\" >8.00</td>\n",
              "      <td id=\"T_d0aed_row6_col9\" class=\"data row6 col9\" >666.00</td>\n",
              "      <td id=\"T_d0aed_row6_col10\" class=\"data row6 col10\" >20.20</td>\n",
              "      <td id=\"T_d0aed_row6_col11\" class=\"data row6 col11\" >396.04</td>\n",
              "      <td id=\"T_d0aed_row6_col12\" class=\"data row6 col12\" >17.07</td>\n",
              "    </tr>\n",
              "    <tr>\n",
              "      <th id=\"T_d0aed_level0_row7\" class=\"row_heading level0 row7\" >max</th>\n",
              "      <td id=\"T_d0aed_row7_col0\" class=\"data row7 col0\" >88.98</td>\n",
              "      <td id=\"T_d0aed_row7_col1\" class=\"data row7 col1\" >100.00</td>\n",
              "      <td id=\"T_d0aed_row7_col2\" class=\"data row7 col2\" >27.74</td>\n",
              "      <td id=\"T_d0aed_row7_col3\" class=\"data row7 col3\" >1.00</td>\n",
              "      <td id=\"T_d0aed_row7_col4\" class=\"data row7 col4\" >0.87</td>\n",
              "      <td id=\"T_d0aed_row7_col5\" class=\"data row7 col5\" >8.78</td>\n",
              "      <td id=\"T_d0aed_row7_col6\" class=\"data row7 col6\" >100.00</td>\n",
              "      <td id=\"T_d0aed_row7_col7\" class=\"data row7 col7\" >12.13</td>\n",
              "      <td id=\"T_d0aed_row7_col8\" class=\"data row7 col8\" >24.00</td>\n",
              "      <td id=\"T_d0aed_row7_col9\" class=\"data row7 col9\" >711.00</td>\n",
              "      <td id=\"T_d0aed_row7_col10\" class=\"data row7 col10\" >22.00</td>\n",
              "      <td id=\"T_d0aed_row7_col11\" class=\"data row7 col11\" >396.90</td>\n",
              "      <td id=\"T_d0aed_row7_col12\" class=\"data row7 col12\" >37.97</td>\n",
              "    </tr>\n",
              "  </tbody>\n",
              "</table>\n"
            ]
          },
          "metadata": {}
        },
        {
          "output_type": "display_data",
          "data": {
            "text/plain": [
              "<pandas.io.formats.style.Styler at 0x7a0115009bd0>"
            ],
            "text/html": [
              "<style type=\"text/css\">\n",
              "</style>\n",
              "<table id=\"T_538f4\" class=\"dataframe\">\n",
              "  <caption>After normalization :</caption>\n",
              "  <thead>\n",
              "    <tr>\n",
              "      <th class=\"blank level0\" >&nbsp;</th>\n",
              "      <th id=\"T_538f4_level0_col0\" class=\"col_heading level0 col0\" >crim</th>\n",
              "      <th id=\"T_538f4_level0_col1\" class=\"col_heading level0 col1\" >zn</th>\n",
              "      <th id=\"T_538f4_level0_col2\" class=\"col_heading level0 col2\" >indus</th>\n",
              "      <th id=\"T_538f4_level0_col3\" class=\"col_heading level0 col3\" >chas</th>\n",
              "      <th id=\"T_538f4_level0_col4\" class=\"col_heading level0 col4\" >nox</th>\n",
              "      <th id=\"T_538f4_level0_col5\" class=\"col_heading level0 col5\" >rm</th>\n",
              "      <th id=\"T_538f4_level0_col6\" class=\"col_heading level0 col6\" >age</th>\n",
              "      <th id=\"T_538f4_level0_col7\" class=\"col_heading level0 col7\" >dis</th>\n",
              "      <th id=\"T_538f4_level0_col8\" class=\"col_heading level0 col8\" >rad</th>\n",
              "      <th id=\"T_538f4_level0_col9\" class=\"col_heading level0 col9\" >tax</th>\n",
              "      <th id=\"T_538f4_level0_col10\" class=\"col_heading level0 col10\" >ptratio</th>\n",
              "      <th id=\"T_538f4_level0_col11\" class=\"col_heading level0 col11\" >b</th>\n",
              "      <th id=\"T_538f4_level0_col12\" class=\"col_heading level0 col12\" >lstat</th>\n",
              "    </tr>\n",
              "  </thead>\n",
              "  <tbody>\n",
              "    <tr>\n",
              "      <th id=\"T_538f4_level0_row0\" class=\"row_heading level0 row0\" >count</th>\n",
              "      <td id=\"T_538f4_row0_col0\" class=\"data row0 col0\" >354.00</td>\n",
              "      <td id=\"T_538f4_row0_col1\" class=\"data row0 col1\" >354.00</td>\n",
              "      <td id=\"T_538f4_row0_col2\" class=\"data row0 col2\" >354.00</td>\n",
              "      <td id=\"T_538f4_row0_col3\" class=\"data row0 col3\" >354.00</td>\n",
              "      <td id=\"T_538f4_row0_col4\" class=\"data row0 col4\" >354.00</td>\n",
              "      <td id=\"T_538f4_row0_col5\" class=\"data row0 col5\" >354.00</td>\n",
              "      <td id=\"T_538f4_row0_col6\" class=\"data row0 col6\" >354.00</td>\n",
              "      <td id=\"T_538f4_row0_col7\" class=\"data row0 col7\" >354.00</td>\n",
              "      <td id=\"T_538f4_row0_col8\" class=\"data row0 col8\" >354.00</td>\n",
              "      <td id=\"T_538f4_row0_col9\" class=\"data row0 col9\" >354.00</td>\n",
              "      <td id=\"T_538f4_row0_col10\" class=\"data row0 col10\" >354.00</td>\n",
              "      <td id=\"T_538f4_row0_col11\" class=\"data row0 col11\" >354.00</td>\n",
              "      <td id=\"T_538f4_row0_col12\" class=\"data row0 col12\" >354.00</td>\n",
              "    </tr>\n",
              "    <tr>\n",
              "      <th id=\"T_538f4_level0_row1\" class=\"row_heading level0 row1\" >mean</th>\n",
              "      <td id=\"T_538f4_row1_col0\" class=\"data row1 col0\" >-0.00</td>\n",
              "      <td id=\"T_538f4_row1_col1\" class=\"data row1 col1\" >0.00</td>\n",
              "      <td id=\"T_538f4_row1_col2\" class=\"data row1 col2\" >0.00</td>\n",
              "      <td id=\"T_538f4_row1_col3\" class=\"data row1 col3\" >0.00</td>\n",
              "      <td id=\"T_538f4_row1_col4\" class=\"data row1 col4\" >-0.00</td>\n",
              "      <td id=\"T_538f4_row1_col5\" class=\"data row1 col5\" >-0.00</td>\n",
              "      <td id=\"T_538f4_row1_col6\" class=\"data row1 col6\" >-0.00</td>\n",
              "      <td id=\"T_538f4_row1_col7\" class=\"data row1 col7\" >-0.00</td>\n",
              "      <td id=\"T_538f4_row1_col8\" class=\"data row1 col8\" >0.00</td>\n",
              "      <td id=\"T_538f4_row1_col9\" class=\"data row1 col9\" >-0.00</td>\n",
              "      <td id=\"T_538f4_row1_col10\" class=\"data row1 col10\" >0.00</td>\n",
              "      <td id=\"T_538f4_row1_col11\" class=\"data row1 col11\" >-0.00</td>\n",
              "      <td id=\"T_538f4_row1_col12\" class=\"data row1 col12\" >-0.00</td>\n",
              "    </tr>\n",
              "    <tr>\n",
              "      <th id=\"T_538f4_level0_row2\" class=\"row_heading level0 row2\" >std</th>\n",
              "      <td id=\"T_538f4_row2_col0\" class=\"data row2 col0\" >1.00</td>\n",
              "      <td id=\"T_538f4_row2_col1\" class=\"data row2 col1\" >1.00</td>\n",
              "      <td id=\"T_538f4_row2_col2\" class=\"data row2 col2\" >1.00</td>\n",
              "      <td id=\"T_538f4_row2_col3\" class=\"data row2 col3\" >1.00</td>\n",
              "      <td id=\"T_538f4_row2_col4\" class=\"data row2 col4\" >1.00</td>\n",
              "      <td id=\"T_538f4_row2_col5\" class=\"data row2 col5\" >1.00</td>\n",
              "      <td id=\"T_538f4_row2_col6\" class=\"data row2 col6\" >1.00</td>\n",
              "      <td id=\"T_538f4_row2_col7\" class=\"data row2 col7\" >1.00</td>\n",
              "      <td id=\"T_538f4_row2_col8\" class=\"data row2 col8\" >1.00</td>\n",
              "      <td id=\"T_538f4_row2_col9\" class=\"data row2 col9\" >1.00</td>\n",
              "      <td id=\"T_538f4_row2_col10\" class=\"data row2 col10\" >1.00</td>\n",
              "      <td id=\"T_538f4_row2_col11\" class=\"data row2 col11\" >1.00</td>\n",
              "      <td id=\"T_538f4_row2_col12\" class=\"data row2 col12\" >1.00</td>\n",
              "    </tr>\n",
              "    <tr>\n",
              "      <th id=\"T_538f4_level0_row3\" class=\"row_heading level0 row3\" >min</th>\n",
              "      <td id=\"T_538f4_row3_col0\" class=\"data row3 col0\" >-0.40</td>\n",
              "      <td id=\"T_538f4_row3_col1\" class=\"data row3 col1\" >-0.49</td>\n",
              "      <td id=\"T_538f4_row3_col2\" class=\"data row3 col2\" >-1.54</td>\n",
              "      <td id=\"T_538f4_row3_col3\" class=\"data row3 col3\" >-0.27</td>\n",
              "      <td id=\"T_538f4_row3_col4\" class=\"data row3 col4\" >-1.49</td>\n",
              "      <td id=\"T_538f4_row3_col5\" class=\"data row3 col5\" >-3.78</td>\n",
              "      <td id=\"T_538f4_row3_col6\" class=\"data row3 col6\" >-2.39</td>\n",
              "      <td id=\"T_538f4_row3_col7\" class=\"data row3 col7\" >-1.24</td>\n",
              "      <td id=\"T_538f4_row3_col8\" class=\"data row3 col8\" >-0.98</td>\n",
              "      <td id=\"T_538f4_row3_col9\" class=\"data row3 col9\" >-1.32</td>\n",
              "      <td id=\"T_538f4_row3_col10\" class=\"data row3 col10\" >-2.64</td>\n",
              "      <td id=\"T_538f4_row3_col11\" class=\"data row3 col11\" >-4.08</td>\n",
              "      <td id=\"T_538f4_row3_col12\" class=\"data row3 col12\" >-1.54</td>\n",
              "    </tr>\n",
              "    <tr>\n",
              "      <th id=\"T_538f4_level0_row4\" class=\"row_heading level0 row4\" >25%</th>\n",
              "      <td id=\"T_538f4_row4_col0\" class=\"data row4 col0\" >-0.39</td>\n",
              "      <td id=\"T_538f4_row4_col1\" class=\"data row4 col1\" >-0.49</td>\n",
              "      <td id=\"T_538f4_row4_col2\" class=\"data row4 col2\" >-0.86</td>\n",
              "      <td id=\"T_538f4_row4_col3\" class=\"data row4 col3\" >-0.27</td>\n",
              "      <td id=\"T_538f4_row4_col4\" class=\"data row4 col4\" >-0.89</td>\n",
              "      <td id=\"T_538f4_row4_col5\" class=\"data row4 col5\" >-0.58</td>\n",
              "      <td id=\"T_538f4_row4_col6\" class=\"data row4 col6\" >-0.92</td>\n",
              "      <td id=\"T_538f4_row4_col7\" class=\"data row4 col7\" >-0.79</td>\n",
              "      <td id=\"T_538f4_row4_col8\" class=\"data row4 col8\" >-0.63</td>\n",
              "      <td id=\"T_538f4_row4_col9\" class=\"data row4 col9\" >-0.73</td>\n",
              "      <td id=\"T_538f4_row4_col10\" class=\"data row4 col10\" >-0.64</td>\n",
              "      <td id=\"T_538f4_row4_col11\" class=\"data row4 col11\" >0.17</td>\n",
              "      <td id=\"T_538f4_row4_col12\" class=\"data row4 col12\" >-0.82</td>\n",
              "    </tr>\n",
              "    <tr>\n",
              "      <th id=\"T_538f4_level0_row5\" class=\"row_heading level0 row5\" >50%</th>\n",
              "      <td id=\"T_538f4_row5_col0\" class=\"data row5 col0\" >-0.37</td>\n",
              "      <td id=\"T_538f4_row5_col1\" class=\"data row5 col1\" >-0.49</td>\n",
              "      <td id=\"T_538f4_row5_col2\" class=\"data row5 col2\" >-0.29</td>\n",
              "      <td id=\"T_538f4_row5_col3\" class=\"data row5 col3\" >-0.27</td>\n",
              "      <td id=\"T_538f4_row5_col4\" class=\"data row5 col4\" >-0.14</td>\n",
              "      <td id=\"T_538f4_row5_col5\" class=\"data row5 col5\" >-0.17</td>\n",
              "      <td id=\"T_538f4_row5_col6\" class=\"data row5 col6\" >0.31</td>\n",
              "      <td id=\"T_538f4_row5_col7\" class=\"data row5 col7\" >-0.32</td>\n",
              "      <td id=\"T_538f4_row5_col8\" class=\"data row5 col8\" >-0.51</td>\n",
              "      <td id=\"T_538f4_row5_col9\" class=\"data row5 col9\" >-0.46</td>\n",
              "      <td id=\"T_538f4_row5_col10\" class=\"data row5 col10\" >0.31</td>\n",
              "      <td id=\"T_538f4_row5_col11\" class=\"data row5 col11\" >0.37</td>\n",
              "      <td id=\"T_538f4_row5_col12\" class=\"data row5 col12\" >-0.17</td>\n",
              "    </tr>\n",
              "    <tr>\n",
              "      <th id=\"T_538f4_level0_row6\" class=\"row_heading level0 row6\" >75%</th>\n",
              "      <td id=\"T_538f4_row6_col0\" class=\"data row6 col0\" >-0.07</td>\n",
              "      <td id=\"T_538f4_row6_col1\" class=\"data row6 col1\" >0.25</td>\n",
              "      <td id=\"T_538f4_row6_col2\" class=\"data row6 col2\" >1.00</td>\n",
              "      <td id=\"T_538f4_row6_col3\" class=\"data row6 col3\" >-0.27</td>\n",
              "      <td id=\"T_538f4_row6_col4\" class=\"data row6 col4\" >0.62</td>\n",
              "      <td id=\"T_538f4_row6_col5\" class=\"data row6 col5\" >0.46</td>\n",
              "      <td id=\"T_538f4_row6_col6\" class=\"data row6 col6\" >0.89</td>\n",
              "      <td id=\"T_538f4_row6_col7\" class=\"data row6 col7\" >0.62</td>\n",
              "      <td id=\"T_538f4_row6_col8\" class=\"data row6 col8\" >-0.16</td>\n",
              "      <td id=\"T_538f4_row6_col9\" class=\"data row6 col9\" >1.58</td>\n",
              "      <td id=\"T_538f4_row6_col10\" class=\"data row6 col10\" >0.81</td>\n",
              "      <td id=\"T_538f4_row6_col11\" class=\"data row6 col11\" >0.43</td>\n",
              "      <td id=\"T_538f4_row6_col12\" class=\"data row6 col12\" >0.64</td>\n",
              "    </tr>\n",
              "    <tr>\n",
              "      <th id=\"T_538f4_level0_row7\" class=\"row_heading level0 row7\" >max</th>\n",
              "      <td id=\"T_538f4_row7_col0\" class=\"data row7 col0\" >10.43</td>\n",
              "      <td id=\"T_538f4_row7_col1\" class=\"data row7 col1\" >3.69</td>\n",
              "      <td id=\"T_538f4_row7_col2\" class=\"data row7 col2\" >2.39</td>\n",
              "      <td id=\"T_538f4_row7_col3\" class=\"data row7 col3\" >3.70</td>\n",
              "      <td id=\"T_538f4_row7_col4\" class=\"data row7 col4\" >2.80</td>\n",
              "      <td id=\"T_538f4_row7_col5\" class=\"data row7 col5\" >3.40</td>\n",
              "      <td id=\"T_538f4_row7_col6\" class=\"data row7 col6\" >1.11</td>\n",
              "      <td id=\"T_538f4_row7_col7\" class=\"data row7 col7\" >3.87</td>\n",
              "      <td id=\"T_538f4_row7_col8\" class=\"data row7 col8\" >1.73</td>\n",
              "      <td id=\"T_538f4_row7_col9\" class=\"data row7 col9\" >1.85</td>\n",
              "      <td id=\"T_538f4_row7_col10\" class=\"data row7 col10\" >1.62</td>\n",
              "      <td id=\"T_538f4_row7_col11\" class=\"data row7 col11\" >0.44</td>\n",
              "      <td id=\"T_538f4_row7_col12\" class=\"data row7 col12\" >3.60</td>\n",
              "    </tr>\n",
              "  </tbody>\n",
              "</table>\n"
            ]
          },
          "metadata": {}
        },
        {
          "output_type": "display_data",
          "data": {
            "text/plain": [
              "<pandas.io.formats.style.Styler at 0x7a0115008a90>"
            ],
            "text/html": [
              "<style type=\"text/css\">\n",
              "</style>\n",
              "<table id=\"T_06c33\" class=\"dataframe\">\n",
              "  <caption>Few lines of the dataset :</caption>\n",
              "  <thead>\n",
              "    <tr>\n",
              "      <th class=\"blank level0\" >&nbsp;</th>\n",
              "      <th id=\"T_06c33_level0_col0\" class=\"col_heading level0 col0\" >crim</th>\n",
              "      <th id=\"T_06c33_level0_col1\" class=\"col_heading level0 col1\" >zn</th>\n",
              "      <th id=\"T_06c33_level0_col2\" class=\"col_heading level0 col2\" >indus</th>\n",
              "      <th id=\"T_06c33_level0_col3\" class=\"col_heading level0 col3\" >chas</th>\n",
              "      <th id=\"T_06c33_level0_col4\" class=\"col_heading level0 col4\" >nox</th>\n",
              "      <th id=\"T_06c33_level0_col5\" class=\"col_heading level0 col5\" >rm</th>\n",
              "      <th id=\"T_06c33_level0_col6\" class=\"col_heading level0 col6\" >age</th>\n",
              "      <th id=\"T_06c33_level0_col7\" class=\"col_heading level0 col7\" >dis</th>\n",
              "      <th id=\"T_06c33_level0_col8\" class=\"col_heading level0 col8\" >rad</th>\n",
              "      <th id=\"T_06c33_level0_col9\" class=\"col_heading level0 col9\" >tax</th>\n",
              "      <th id=\"T_06c33_level0_col10\" class=\"col_heading level0 col10\" >ptratio</th>\n",
              "      <th id=\"T_06c33_level0_col11\" class=\"col_heading level0 col11\" >b</th>\n",
              "      <th id=\"T_06c33_level0_col12\" class=\"col_heading level0 col12\" >lstat</th>\n",
              "    </tr>\n",
              "  </thead>\n",
              "  <tbody>\n",
              "    <tr>\n",
              "      <th id=\"T_06c33_level0_row0\" class=\"row_heading level0 row0\" >26</th>\n",
              "      <td id=\"T_06c33_row0_col0\" class=\"data row0 col0\" >-0.32</td>\n",
              "      <td id=\"T_06c33_row0_col1\" class=\"data row0 col1\" >-0.49</td>\n",
              "      <td id=\"T_06c33_row0_col2\" class=\"data row0 col2\" >-0.43</td>\n",
              "      <td id=\"T_06c33_row0_col3\" class=\"data row0 col3\" >-0.27</td>\n",
              "      <td id=\"T_06c33_row0_col4\" class=\"data row0 col4\" >-0.14</td>\n",
              "      <td id=\"T_06c33_row0_col5\" class=\"data row0 col5\" >-0.68</td>\n",
              "      <td id=\"T_06c33_row0_col6\" class=\"data row0 col6\" >0.76</td>\n",
              "      <td id=\"T_06c33_row0_col7\" class=\"data row0 col7\" >0.41</td>\n",
              "      <td id=\"T_06c33_row0_col8\" class=\"data row0 col8\" >-0.63</td>\n",
              "      <td id=\"T_06c33_row0_col9\" class=\"data row0 col9\" >-0.59</td>\n",
              "      <td id=\"T_06c33_row0_col10\" class=\"data row0 col10\" >1.17</td>\n",
              "      <td id=\"T_06c33_row0_col11\" class=\"data row0 col11\" >0.21</td>\n",
              "      <td id=\"T_06c33_row0_col12\" class=\"data row0 col12\" >0.32</td>\n",
              "    </tr>\n",
              "    <tr>\n",
              "      <th id=\"T_06c33_level0_row1\" class=\"row_heading level0 row1\" >104</th>\n",
              "      <td id=\"T_06c33_row1_col0\" class=\"data row1 col0\" >-0.39</td>\n",
              "      <td id=\"T_06c33_row1_col1\" class=\"data row1 col1\" >-0.49</td>\n",
              "      <td id=\"T_06c33_row1_col2\" class=\"data row1 col2\" >-0.37</td>\n",
              "      <td id=\"T_06c33_row1_col3\" class=\"data row1 col3\" >-0.27</td>\n",
              "      <td id=\"T_06c33_row1_col4\" class=\"data row1 col4\" >-0.30</td>\n",
              "      <td id=\"T_06c33_row1_col5\" class=\"data row1 col5\" >-0.20</td>\n",
              "      <td id=\"T_06c33_row1_col6\" class=\"data row1 col6\" >0.74</td>\n",
              "      <td id=\"T_06c33_row1_col7\" class=\"data row1 col7\" >-0.64</td>\n",
              "      <td id=\"T_06c33_row1_col8\" class=\"data row1 col8\" >-0.51</td>\n",
              "      <td id=\"T_06c33_row1_col9\" class=\"data row1 col9\" >-0.13</td>\n",
              "      <td id=\"T_06c33_row1_col10\" class=\"data row1 col10\" >1.12</td>\n",
              "      <td id=\"T_06c33_row1_col11\" class=\"data row1 col11\" >0.39</td>\n",
              "      <td id=\"T_06c33_row1_col12\" class=\"data row1 col12\" >-0.04</td>\n",
              "    </tr>\n",
              "    <tr>\n",
              "      <th id=\"T_06c33_level0_row2\" class=\"row_heading level0 row2\" >340</th>\n",
              "      <td id=\"T_06c33_row2_col0\" class=\"data row2 col0\" >-0.40</td>\n",
              "      <td id=\"T_06c33_row2_col1\" class=\"data row2 col1\" >-0.49</td>\n",
              "      <td id=\"T_06c33_row2_col2\" class=\"data row2 col2\" >-0.85</td>\n",
              "      <td id=\"T_06c33_row2_col3\" class=\"data row2 col3\" >-0.27</td>\n",
              "      <td id=\"T_06c33_row2_col4\" class=\"data row2 col4\" >-0.34</td>\n",
              "      <td id=\"T_06c33_row2_col5\" class=\"data row2 col5\" >-0.47</td>\n",
              "      <td id=\"T_06c33_row2_col6\" class=\"data row2 col6\" >-0.39</td>\n",
              "      <td id=\"T_06c33_row2_col7\" class=\"data row2 col7\" >0.47</td>\n",
              "      <td id=\"T_06c33_row2_col8\" class=\"data row2 col8\" >-0.51</td>\n",
              "      <td id=\"T_06c33_row2_col9\" class=\"data row2 col9\" >-1.10</td>\n",
              "      <td id=\"T_06c33_row2_col10\" class=\"data row2 col10\" >0.81</td>\n",
              "      <td id=\"T_06c33_row2_col11\" class=\"data row2 col11\" >0.44</td>\n",
              "      <td id=\"T_06c33_row2_col12\" class=\"data row2 col12\" >-0.47</td>\n",
              "    </tr>\n",
              "    <tr>\n",
              "      <th id=\"T_06c33_level0_row3\" class=\"row_heading level0 row3\" >200</th>\n",
              "      <td id=\"T_06c33_row3_col0\" class=\"data row3 col0\" >-0.40</td>\n",
              "      <td id=\"T_06c33_row3_col1\" class=\"data row3 col1\" >3.48</td>\n",
              "      <td id=\"T_06c33_row3_col2\" class=\"data row3 col2\" >-1.39</td>\n",
              "      <td id=\"T_06c33_row3_col3\" class=\"data row3 col3\" >-0.27</td>\n",
              "      <td id=\"T_06c33_row3_col4\" class=\"data row3 col4\" >-1.33</td>\n",
              "      <td id=\"T_06c33_row3_col5\" class=\"data row3 col5\" >1.14</td>\n",
              "      <td id=\"T_06c33_row3_col6\" class=\"data row3 col6\" >-2.00</td>\n",
              "      <td id=\"T_06c33_row3_col7\" class=\"data row3 col7\" >1.79</td>\n",
              "      <td id=\"T_06c33_row3_col8\" class=\"data row3 col8\" >-0.75</td>\n",
              "      <td id=\"T_06c33_row3_col9\" class=\"data row3 col9\" >-0.02</td>\n",
              "      <td id=\"T_06c33_row3_col10\" class=\"data row3 col10\" >-0.64</td>\n",
              "      <td id=\"T_06c33_row3_col11\" class=\"data row3 col11\" >0.29</td>\n",
              "      <td id=\"T_06c33_row3_col12\" class=\"data row3 col12\" >-1.15</td>\n",
              "    </tr>\n",
              "    <tr>\n",
              "      <th id=\"T_06c33_level0_row4\" class=\"row_heading level0 row4\" >220</th>\n",
              "      <td id=\"T_06c33_row4_col0\" class=\"data row4 col0\" >-0.36</td>\n",
              "      <td id=\"T_06c33_row4_col1\" class=\"data row4 col1\" >-0.49</td>\n",
              "      <td id=\"T_06c33_row4_col2\" class=\"data row4 col2\" >-0.71</td>\n",
              "      <td id=\"T_06c33_row4_col3\" class=\"data row4 col3\" >3.70</td>\n",
              "      <td id=\"T_06c33_row4_col4\" class=\"data row4 col4\" >-0.41</td>\n",
              "      <td id=\"T_06c33_row4_col5\" class=\"data row4 col5\" >0.88</td>\n",
              "      <td id=\"T_06c33_row4_col6\" class=\"data row4 col6\" >0.69</td>\n",
              "      <td id=\"T_06c33_row4_col7\" class=\"data row4 col7\" >-0.43</td>\n",
              "      <td id=\"T_06c33_row4_col8\" class=\"data row4 col8\" >-0.16</td>\n",
              "      <td id=\"T_06c33_row4_col9\" class=\"data row4 col9\" >-0.59</td>\n",
              "      <td id=\"T_06c33_row4_col10\" class=\"data row4 col10\" >-0.46</td>\n",
              "      <td id=\"T_06c33_row4_col11\" class=\"data row4 col11\" >0.38</td>\n",
              "      <td id=\"T_06c33_row4_col12\" class=\"data row4 col12\" >-0.41</td>\n",
              "    </tr>\n",
              "  </tbody>\n",
              "</table>\n"
            ]
          },
          "metadata": {}
        }
      ]
    },
    {
      "cell_type": "markdown",
      "source": [
        "## Exo4:  Model Design"
      ],
      "metadata": {
        "id": "tk5PT-GONvp0"
      }
    },
    {
      "cell_type": "markdown",
      "source": [
        "Design a neural network architecture with two hidden layers, each consisting of 64 units and utilizing the ReLU activation function. To obtain a linear output layer, include a final layer with a single unit and no activation function. Compile the network using the mean squared error (MSE) loss function. Additionally, monitor a new metric, mean absolute error (MAE), during training. Finally, define the optimizer as 'rmsprop' in the model compilation.\n",
        "\n",
        "Define the model within a function named build_model(shape)\n",
        "\n",
        "\n",
        "More informations about :\n",
        "\n",
        "\n",
        "* [Optimizer](https://www.tensorflow.org/api_docs/python/tf/keras/optimizers)\n",
        "* [Activation](https://www.tensorflow.org/api_docs/python/tf/keras/activations)\n",
        "* [Loss](https://www.tensorflow.org/api_docs/python/tf/keras/losses)\n",
        "* [Metrics](https://www.tensorflow.org/api_docs/python/tf/keras/metrics)\n",
        "\n",
        "\n"
      ],
      "metadata": {
        "id": "J_kotgwULVcH"
      }
    },
    {
      "cell_type": "code",
      "source": [
        "from keras import models\n",
        "from keras import layers\n",
        "\n",
        "def build_model(shape):\n",
        "    model = models.Sequential()\n",
        "\n",
        "    # First hidden layer\n",
        "    model.add(layers.Dense(64, activation='relu', input_shape=(shape,)))\n",
        "\n",
        "    # Second hidden layer\n",
        "    model.add(layers.Dense(64, activation='relu'))\n",
        "\n",
        "    # Output layer\n",
        "    model.add(layers.Dense(1,activation = None))  # No activation for a linear output\n",
        "\n",
        "    # Compiling the model\n",
        "    model.compile(optimizer='rmsprop', loss='mse', metrics=['mae'])\n",
        "\n",
        "    return model\n"
      ],
      "metadata": {
        "id": "wA391yVKNX3n"
      },
      "execution_count": null,
      "outputs": []
    },
    {
      "cell_type": "markdown",
      "source": [
        "## Exe 5 : Model Building\n",
        "\n",
        " Use the build_model function to create a model with a shape equal to the number of features. Display its summary."
      ],
      "metadata": {
        "id": "4iv88RDcQP7s"
      }
    },
    {
      "cell_type": "code",
      "source": [
        "model=build_model(13)\n",
        "\n",
        "model.summary()"
      ],
      "metadata": {
        "id": "Djh2Efl8aDDH",
        "colab": {
          "base_uri": "https://localhost:8080/"
        },
        "outputId": "fc7bb123-b954-49ff-fbe3-b720fc2c439b"
      },
      "execution_count": null,
      "outputs": [
        {
          "output_type": "stream",
          "name": "stdout",
          "text": [
            "Model: \"sequential\"\n",
            "_________________________________________________________________\n",
            " Layer (type)                Output Shape              Param #   \n",
            "=================================================================\n",
            " dense (Dense)               (None, 64)                896       \n",
            "                                                                 \n",
            " dense_1 (Dense)             (None, 64)                4160      \n",
            "                                                                 \n",
            " dense_2 (Dense)             (None, 1)                 65        \n",
            "                                                                 \n",
            "=================================================================\n",
            "Total params: 5121 (20.00 KB)\n",
            "Trainable params: 5121 (20.00 KB)\n",
            "Non-trainable params: 0 (0.00 Byte)\n",
            "_________________________________________________________________\n"
          ]
        }
      ]
    },
    {
      "cell_type": "markdown",
      "source": [
        "\n",
        "\n",
        "## Exe 6 : Model Fitting\n",
        "\n",
        "Fit the model on the train set with the test set as the\n",
        "validation set, 60 epochs and save it in history.\n",
        "\n"
      ],
      "metadata": {
        "id": "x6Px4Da0b1mx"
      }
    },
    {
      "cell_type": "code",
      "source": [
        "history = model.fit(x_train, y_train,\n",
        "                    epochs=60,\n",
        "                    validation_data=(x_test, y_test))"
      ],
      "metadata": {
        "id": "_HcO_9Y5b2jP",
        "colab": {
          "base_uri": "https://localhost:8080/"
        },
        "outputId": "3817479c-ccb2-4bcd-89d8-6c18083e96c8"
      },
      "execution_count": null,
      "outputs": [
        {
          "output_type": "stream",
          "name": "stdout",
          "text": [
            "Epoch 1/60\n",
            "12/12 [==============================] - 3s 32ms/step - loss: 552.1506 - mae: 21.5143 - val_loss: 448.5218 - val_mae: 19.3685\n",
            "Epoch 2/60\n",
            "12/12 [==============================] - 0s 9ms/step - loss: 460.8193 - mae: 19.2943 - val_loss: 362.8507 - val_mae: 17.2042\n",
            "Epoch 3/60\n",
            "12/12 [==============================] - 0s 10ms/step - loss: 369.8137 - mae: 16.9496 - val_loss: 282.2779 - val_mae: 14.8644\n",
            "Epoch 4/60\n",
            "12/12 [==============================] - 0s 8ms/step - loss: 283.0103 - mae: 14.3601 - val_loss: 191.6039 - val_mae: 11.8748\n",
            "Epoch 5/60\n",
            "12/12 [==============================] - 0s 9ms/step - loss: 194.1277 - mae: 11.3746 - val_loss: 124.2812 - val_mae: 9.0770\n",
            "Epoch 6/60\n",
            "12/12 [==============================] - 0s 10ms/step - loss: 129.7236 - mae: 8.7368 - val_loss: 81.3462 - val_mae: 7.0430\n",
            "Epoch 7/60\n",
            "12/12 [==============================] - 0s 8ms/step - loss: 87.4613 - mae: 6.9073 - val_loss: 59.0166 - val_mae: 6.0158\n",
            "Epoch 8/60\n",
            "12/12 [==============================] - 0s 7ms/step - loss: 64.1761 - mae: 5.9245 - val_loss: 46.7817 - val_mae: 5.3877\n",
            "Epoch 9/60\n",
            "12/12 [==============================] - 0s 7ms/step - loss: 51.0265 - mae: 5.2777 - val_loss: 39.3324 - val_mae: 4.9878\n",
            "Epoch 10/60\n",
            "12/12 [==============================] - 0s 5ms/step - loss: 40.6417 - mae: 4.7795 - val_loss: 33.4052 - val_mae: 4.5417\n",
            "Epoch 11/60\n",
            "12/12 [==============================] - 0s 7ms/step - loss: 33.9054 - mae: 4.2933 - val_loss: 28.8626 - val_mae: 4.1598\n",
            "Epoch 12/60\n",
            "12/12 [==============================] - 0s 7ms/step - loss: 28.6048 - mae: 3.8942 - val_loss: 25.8261 - val_mae: 3.8928\n",
            "Epoch 13/60\n",
            "12/12 [==============================] - 0s 7ms/step - loss: 25.0148 - mae: 3.6563 - val_loss: 23.6589 - val_mae: 3.7047\n",
            "Epoch 14/60\n",
            "12/12 [==============================] - 0s 7ms/step - loss: 22.3128 - mae: 3.4741 - val_loss: 21.3106 - val_mae: 3.4140\n",
            "Epoch 15/60\n",
            "12/12 [==============================] - 0s 6ms/step - loss: 20.4788 - mae: 3.3167 - val_loss: 20.0720 - val_mae: 3.2224\n",
            "Epoch 16/60\n",
            "12/12 [==============================] - 0s 7ms/step - loss: 19.3280 - mae: 3.1757 - val_loss: 19.0089 - val_mae: 3.1182\n",
            "Epoch 17/60\n",
            "12/12 [==============================] - 0s 7ms/step - loss: 17.9405 - mae: 3.0705 - val_loss: 19.0087 - val_mae: 2.9589\n",
            "Epoch 18/60\n",
            "12/12 [==============================] - 0s 7ms/step - loss: 17.3828 - mae: 3.0055 - val_loss: 17.8617 - val_mae: 3.1079\n",
            "Epoch 19/60\n",
            "12/12 [==============================] - 0s 7ms/step - loss: 16.3855 - mae: 2.9371 - val_loss: 17.7919 - val_mae: 3.0979\n",
            "Epoch 20/60\n",
            "12/12 [==============================] - 0s 6ms/step - loss: 15.8472 - mae: 2.8699 - val_loss: 16.5132 - val_mae: 2.7821\n",
            "Epoch 21/60\n",
            "12/12 [==============================] - 0s 6ms/step - loss: 15.2461 - mae: 2.8079 - val_loss: 16.1431 - val_mae: 2.9383\n",
            "Epoch 22/60\n",
            "12/12 [==============================] - 0s 7ms/step - loss: 14.6566 - mae: 2.8141 - val_loss: 17.0920 - val_mae: 3.1431\n",
            "Epoch 23/60\n",
            "12/12 [==============================] - 0s 5ms/step - loss: 14.7091 - mae: 2.7664 - val_loss: 15.6641 - val_mae: 2.7367\n",
            "Epoch 24/60\n",
            "12/12 [==============================] - 0s 6ms/step - loss: 13.9597 - mae: 2.7023 - val_loss: 15.2488 - val_mae: 2.7404\n",
            "Epoch 25/60\n",
            "12/12 [==============================] - 0s 7ms/step - loss: 13.6357 - mae: 2.6678 - val_loss: 14.6733 - val_mae: 2.6784\n",
            "Epoch 26/60\n",
            "12/12 [==============================] - 0s 6ms/step - loss: 13.0399 - mae: 2.6028 - val_loss: 14.5849 - val_mae: 2.6848\n",
            "Epoch 27/60\n",
            "12/12 [==============================] - 0s 7ms/step - loss: 12.7525 - mae: 2.5926 - val_loss: 14.4173 - val_mae: 2.6214\n",
            "Epoch 28/60\n",
            "12/12 [==============================] - 0s 6ms/step - loss: 12.6536 - mae: 2.5598 - val_loss: 14.4070 - val_mae: 2.6313\n",
            "Epoch 29/60\n",
            "12/12 [==============================] - 0s 6ms/step - loss: 12.2137 - mae: 2.5237 - val_loss: 14.9737 - val_mae: 2.8221\n",
            "Epoch 30/60\n",
            "12/12 [==============================] - 0s 6ms/step - loss: 12.2236 - mae: 2.5033 - val_loss: 13.9037 - val_mae: 2.6037\n",
            "Epoch 31/60\n",
            "12/12 [==============================] - 0s 6ms/step - loss: 11.7488 - mae: 2.5120 - val_loss: 13.8991 - val_mae: 2.5655\n",
            "Epoch 32/60\n",
            "12/12 [==============================] - 0s 7ms/step - loss: 11.6673 - mae: 2.4558 - val_loss: 14.3572 - val_mae: 2.7452\n",
            "Epoch 33/60\n",
            "12/12 [==============================] - 0s 6ms/step - loss: 11.3231 - mae: 2.4714 - val_loss: 13.9042 - val_mae: 2.6639\n",
            "Epoch 34/60\n",
            "12/12 [==============================] - 0s 7ms/step - loss: 11.1546 - mae: 2.4494 - val_loss: 13.6387 - val_mae: 2.5617\n",
            "Epoch 35/60\n",
            "12/12 [==============================] - 0s 5ms/step - loss: 10.9452 - mae: 2.3867 - val_loss: 13.9410 - val_mae: 2.5664\n",
            "Epoch 36/60\n",
            "12/12 [==============================] - 0s 5ms/step - loss: 11.0295 - mae: 2.3698 - val_loss: 13.8753 - val_mae: 2.5115\n",
            "Epoch 37/60\n",
            "12/12 [==============================] - 0s 6ms/step - loss: 10.7440 - mae: 2.3998 - val_loss: 13.4569 - val_mae: 2.4965\n",
            "Epoch 38/60\n",
            "12/12 [==============================] - 0s 7ms/step - loss: 10.4320 - mae: 2.3216 - val_loss: 13.3123 - val_mae: 2.5481\n",
            "Epoch 39/60\n",
            "12/12 [==============================] - 0s 6ms/step - loss: 10.3494 - mae: 2.3023 - val_loss: 13.3823 - val_mae: 2.5731\n",
            "Epoch 40/60\n",
            "12/12 [==============================] - 0s 6ms/step - loss: 10.2854 - mae: 2.3083 - val_loss: 13.2502 - val_mae: 2.5447\n",
            "Epoch 41/60\n",
            "12/12 [==============================] - 0s 6ms/step - loss: 10.1757 - mae: 2.2537 - val_loss: 13.2630 - val_mae: 2.5808\n",
            "Epoch 42/60\n",
            "12/12 [==============================] - 0s 6ms/step - loss: 10.0669 - mae: 2.2579 - val_loss: 13.7982 - val_mae: 2.5709\n",
            "Epoch 43/60\n",
            "12/12 [==============================] - 0s 6ms/step - loss: 9.9098 - mae: 2.2644 - val_loss: 14.3568 - val_mae: 2.5936\n",
            "Epoch 44/60\n",
            "12/12 [==============================] - 0s 6ms/step - loss: 9.7678 - mae: 2.2179 - val_loss: 13.4884 - val_mae: 2.5454\n",
            "Epoch 45/60\n",
            "12/12 [==============================] - 0s 7ms/step - loss: 9.5242 - mae: 2.2023 - val_loss: 13.3017 - val_mae: 2.5040\n",
            "Epoch 46/60\n",
            "12/12 [==============================] - 0s 7ms/step - loss: 9.4421 - mae: 2.1691 - val_loss: 12.7562 - val_mae: 2.4882\n",
            "Epoch 47/60\n",
            "12/12 [==============================] - 0s 6ms/step - loss: 9.3691 - mae: 2.2111 - val_loss: 14.1438 - val_mae: 2.6064\n",
            "Epoch 48/60\n",
            "12/12 [==============================] - 0s 6ms/step - loss: 9.3894 - mae: 2.1805 - val_loss: 13.9998 - val_mae: 2.7710\n",
            "Epoch 49/60\n",
            "12/12 [==============================] - 0s 5ms/step - loss: 9.3304 - mae: 2.1982 - val_loss: 13.2538 - val_mae: 2.4954\n",
            "Epoch 50/60\n",
            "12/12 [==============================] - 0s 6ms/step - loss: 9.1155 - mae: 2.1434 - val_loss: 12.8896 - val_mae: 2.4561\n",
            "Epoch 51/60\n",
            "12/12 [==============================] - 0s 6ms/step - loss: 9.0080 - mae: 2.1450 - val_loss: 12.8467 - val_mae: 2.4473\n",
            "Epoch 52/60\n",
            "12/12 [==============================] - 0s 7ms/step - loss: 8.8136 - mae: 2.1278 - val_loss: 13.1914 - val_mae: 2.5602\n",
            "Epoch 53/60\n",
            "12/12 [==============================] - 0s 6ms/step - loss: 8.8795 - mae: 2.1127 - val_loss: 14.3829 - val_mae: 2.6070\n",
            "Epoch 54/60\n",
            "12/12 [==============================] - 0s 6ms/step - loss: 8.8589 - mae: 2.1016 - val_loss: 12.6218 - val_mae: 2.4481\n",
            "Epoch 55/60\n",
            "12/12 [==============================] - 0s 6ms/step - loss: 8.3977 - mae: 2.0603 - val_loss: 12.7640 - val_mae: 2.5108\n",
            "Epoch 56/60\n",
            "12/12 [==============================] - 0s 7ms/step - loss: 8.4286 - mae: 2.0525 - val_loss: 13.3289 - val_mae: 2.4979\n",
            "Epoch 57/60\n",
            "12/12 [==============================] - 0s 6ms/step - loss: 8.4488 - mae: 2.0647 - val_loss: 13.0050 - val_mae: 2.5527\n",
            "Epoch 58/60\n",
            "12/12 [==============================] - 0s 6ms/step - loss: 8.3359 - mae: 2.0539 - val_loss: 12.7737 - val_mae: 2.4637\n",
            "Epoch 59/60\n",
            "12/12 [==============================] - 0s 6ms/step - loss: 8.2207 - mae: 2.0582 - val_loss: 13.0825 - val_mae: 2.5204\n",
            "Epoch 60/60\n",
            "12/12 [==============================] - 0s 6ms/step - loss: 7.9624 - mae: 1.9984 - val_loss: 12.7085 - val_mae: 2.4495\n"
          ]
        }
      ]
    },
    {
      "cell_type": "markdown",
      "source": [
        "## Exe 7 : Model evaluation\n",
        "\n",
        "It is the moment for checking the model performance on the test dataset.\n",
        "\n",
        "Check the test loss and mae of the model.\n",
        "\n",
        "* MAE = Mean Absolute Error (between the labels and predictions)\n",
        "\n",
        "=> A mae equal to 3 represents an average error in prediction of $3k."
      ],
      "metadata": {
        "id": "YpxzW-1p2EXJ"
      }
    },
    {
      "cell_type": "code",
      "source": [
        "score = model.evaluate(x_test, y_test)\n",
        "\n",
        "print('x_test / loss      : {:5.4f}'.format(score[0]))\n",
        "print('x_test / mae       : {:5.4f}'.format(score[1]))"
      ],
      "metadata": {
        "id": "eBXglsV82RKG",
        "colab": {
          "base_uri": "https://localhost:8080/"
        },
        "outputId": "404b8324-d286-4b37-de8f-fe2cf9e5a54d"
      },
      "execution_count": null,
      "outputs": [
        {
          "output_type": "stream",
          "name": "stdout",
          "text": [
            "5/5 [==============================] - 0s 3ms/step - loss: 12.7085 - mae: 2.4495\n",
            "x_test / loss      : 12.7085\n",
            "x_test / mae       : 2.4495\n"
          ]
        }
      ]
    },
    {
      "cell_type": "markdown",
      "source": [
        "## Exe 8 : Training histroy\n",
        "\n",
        "What was the best result during our training ?"
      ],
      "metadata": {
        "id": "33BEc6MW4ojs"
      }
    },
    {
      "cell_type": "code",
      "source": [
        "df=pd.DataFrame(data=history.history)\n",
        "display(df)"
      ],
      "metadata": {
        "id": "k66U8rtf6GnC",
        "colab": {
          "base_uri": "https://localhost:8080/",
          "height": 1000
        },
        "outputId": "efb6f3dd-ff34-40fd-bcd0-99bf2b75ff9e"
      },
      "execution_count": null,
      "outputs": [
        {
          "output_type": "display_data",
          "data": {
            "text/plain": [
              "          loss        mae    val_loss    val_mae\n",
              "0   552.150574  21.514273  448.521790  19.368534\n",
              "1   460.819336  19.294260  362.850677  17.204157\n",
              "2   369.813660  16.949629  282.277893  14.864394\n",
              "3   283.010284  14.360085  191.603882  11.874841\n",
              "4   194.127655  11.374612  124.281212   9.077044\n",
              "5   129.723572   8.736778   81.346184   7.042975\n",
              "6    87.461250   6.907313   59.016582   6.015801\n",
              "7    64.176117   5.924489   46.781734   5.387702\n",
              "8    51.026455   5.277690   39.332428   4.987767\n",
              "9    40.641735   4.779544   33.405178   4.541679\n",
              "10   33.905407   4.293326   28.862646   4.159756\n",
              "11   28.604803   3.894237   25.826120   3.892754\n",
              "12   25.014755   3.656258   23.658924   3.704657\n",
              "13   22.312792   3.474103   21.310646   3.414008\n",
              "14   20.478775   3.316712   20.071970   3.222429\n",
              "15   19.327982   3.175721   19.008905   3.118240\n",
              "16   17.940491   3.070454   19.008718   2.958934\n",
              "17   17.382830   3.005488   17.861689   3.107910\n",
              "18   16.385487   2.937128   17.791899   3.097942\n",
              "19   15.847239   2.869865   16.513220   2.782053\n",
              "20   15.246076   2.807913   16.143106   2.938259\n",
              "21   14.656563   2.814051   17.092003   3.143072\n",
              "22   14.709126   2.766394   15.664103   2.736675\n",
              "23   13.959744   2.702343   15.248810   2.740362\n",
              "24   13.635749   2.667792   14.673349   2.678390\n",
              "25   13.039915   2.602830   14.584893   2.684830\n",
              "26   12.752543   2.592584   14.417349   2.621404\n",
              "27   12.653635   2.559783   14.406960   2.631316\n",
              "28   12.213721   2.523701   14.973741   2.822138\n",
              "29   12.223609   2.503349   13.903725   2.603719\n",
              "30   11.748800   2.512019   13.899107   2.565504\n",
              "31   11.667338   2.455797   14.357237   2.745222\n",
              "32   11.323130   2.471379   13.904210   2.663861\n",
              "33   11.154578   2.449428   13.638700   2.561671\n",
              "34   10.945175   2.386729   13.940995   2.566397\n",
              "35   11.029452   2.369819   13.875260   2.511474\n",
              "36   10.743970   2.399757   13.456935   2.496510\n",
              "37   10.432022   2.321575   13.312304   2.548060\n",
              "38   10.349394   2.302331   13.382299   2.573052\n",
              "39   10.285407   2.308324   13.250169   2.544724\n",
              "40   10.175654   2.253662   13.263014   2.580762\n",
              "41   10.066923   2.257936   13.798190   2.570872\n",
              "42    9.909816   2.264431   14.356849   2.593585\n",
              "43    9.767836   2.217904   13.488396   2.545415\n",
              "44    9.524181   2.202292   13.301729   2.503999\n",
              "45    9.442058   2.169136   12.756184   2.488232\n",
              "46    9.369097   2.211091   14.143827   2.606382\n",
              "47    9.389368   2.180483   13.999798   2.771029\n",
              "48    9.330405   2.198227   13.253802   2.495404\n",
              "49    9.115485   2.143447   12.889600   2.456114\n",
              "50    9.008017   2.144968   12.846679   2.447312\n",
              "51    8.813602   2.127795   13.191374   2.560161\n",
              "52    8.879478   2.112710   14.382912   2.607022\n",
              "53    8.858855   2.101609   12.621792   2.448134\n",
              "54    8.397735   2.060349   12.764046   2.510807\n",
              "55    8.428576   2.052537   13.328877   2.497889\n",
              "56    8.448830   2.064686   13.004989   2.552682\n",
              "57    8.335910   2.053949   12.773665   2.463735\n",
              "58    8.220722   2.058200   13.082499   2.520397\n",
              "59    7.962357   1.998367   12.708501   2.449506"
            ],
            "text/html": [
              "\n",
              "  <div id=\"df-d199de79-6590-4732-8638-420b6e1bd5f0\" class=\"colab-df-container\">\n",
              "    <div>\n",
              "<style scoped>\n",
              "    .dataframe tbody tr th:only-of-type {\n",
              "        vertical-align: middle;\n",
              "    }\n",
              "\n",
              "    .dataframe tbody tr th {\n",
              "        vertical-align: top;\n",
              "    }\n",
              "\n",
              "    .dataframe thead th {\n",
              "        text-align: right;\n",
              "    }\n",
              "</style>\n",
              "<table border=\"1\" class=\"dataframe\">\n",
              "  <thead>\n",
              "    <tr style=\"text-align: right;\">\n",
              "      <th></th>\n",
              "      <th>loss</th>\n",
              "      <th>mae</th>\n",
              "      <th>val_loss</th>\n",
              "      <th>val_mae</th>\n",
              "    </tr>\n",
              "  </thead>\n",
              "  <tbody>\n",
              "    <tr>\n",
              "      <th>0</th>\n",
              "      <td>552.150574</td>\n",
              "      <td>21.514273</td>\n",
              "      <td>448.521790</td>\n",
              "      <td>19.368534</td>\n",
              "    </tr>\n",
              "    <tr>\n",
              "      <th>1</th>\n",
              "      <td>460.819336</td>\n",
              "      <td>19.294260</td>\n",
              "      <td>362.850677</td>\n",
              "      <td>17.204157</td>\n",
              "    </tr>\n",
              "    <tr>\n",
              "      <th>2</th>\n",
              "      <td>369.813660</td>\n",
              "      <td>16.949629</td>\n",
              "      <td>282.277893</td>\n",
              "      <td>14.864394</td>\n",
              "    </tr>\n",
              "    <tr>\n",
              "      <th>3</th>\n",
              "      <td>283.010284</td>\n",
              "      <td>14.360085</td>\n",
              "      <td>191.603882</td>\n",
              "      <td>11.874841</td>\n",
              "    </tr>\n",
              "    <tr>\n",
              "      <th>4</th>\n",
              "      <td>194.127655</td>\n",
              "      <td>11.374612</td>\n",
              "      <td>124.281212</td>\n",
              "      <td>9.077044</td>\n",
              "    </tr>\n",
              "    <tr>\n",
              "      <th>5</th>\n",
              "      <td>129.723572</td>\n",
              "      <td>8.736778</td>\n",
              "      <td>81.346184</td>\n",
              "      <td>7.042975</td>\n",
              "    </tr>\n",
              "    <tr>\n",
              "      <th>6</th>\n",
              "      <td>87.461250</td>\n",
              "      <td>6.907313</td>\n",
              "      <td>59.016582</td>\n",
              "      <td>6.015801</td>\n",
              "    </tr>\n",
              "    <tr>\n",
              "      <th>7</th>\n",
              "      <td>64.176117</td>\n",
              "      <td>5.924489</td>\n",
              "      <td>46.781734</td>\n",
              "      <td>5.387702</td>\n",
              "    </tr>\n",
              "    <tr>\n",
              "      <th>8</th>\n",
              "      <td>51.026455</td>\n",
              "      <td>5.277690</td>\n",
              "      <td>39.332428</td>\n",
              "      <td>4.987767</td>\n",
              "    </tr>\n",
              "    <tr>\n",
              "      <th>9</th>\n",
              "      <td>40.641735</td>\n",
              "      <td>4.779544</td>\n",
              "      <td>33.405178</td>\n",
              "      <td>4.541679</td>\n",
              "    </tr>\n",
              "    <tr>\n",
              "      <th>10</th>\n",
              "      <td>33.905407</td>\n",
              "      <td>4.293326</td>\n",
              "      <td>28.862646</td>\n",
              "      <td>4.159756</td>\n",
              "    </tr>\n",
              "    <tr>\n",
              "      <th>11</th>\n",
              "      <td>28.604803</td>\n",
              "      <td>3.894237</td>\n",
              "      <td>25.826120</td>\n",
              "      <td>3.892754</td>\n",
              "    </tr>\n",
              "    <tr>\n",
              "      <th>12</th>\n",
              "      <td>25.014755</td>\n",
              "      <td>3.656258</td>\n",
              "      <td>23.658924</td>\n",
              "      <td>3.704657</td>\n",
              "    </tr>\n",
              "    <tr>\n",
              "      <th>13</th>\n",
              "      <td>22.312792</td>\n",
              "      <td>3.474103</td>\n",
              "      <td>21.310646</td>\n",
              "      <td>3.414008</td>\n",
              "    </tr>\n",
              "    <tr>\n",
              "      <th>14</th>\n",
              "      <td>20.478775</td>\n",
              "      <td>3.316712</td>\n",
              "      <td>20.071970</td>\n",
              "      <td>3.222429</td>\n",
              "    </tr>\n",
              "    <tr>\n",
              "      <th>15</th>\n",
              "      <td>19.327982</td>\n",
              "      <td>3.175721</td>\n",
              "      <td>19.008905</td>\n",
              "      <td>3.118240</td>\n",
              "    </tr>\n",
              "    <tr>\n",
              "      <th>16</th>\n",
              "      <td>17.940491</td>\n",
              "      <td>3.070454</td>\n",
              "      <td>19.008718</td>\n",
              "      <td>2.958934</td>\n",
              "    </tr>\n",
              "    <tr>\n",
              "      <th>17</th>\n",
              "      <td>17.382830</td>\n",
              "      <td>3.005488</td>\n",
              "      <td>17.861689</td>\n",
              "      <td>3.107910</td>\n",
              "    </tr>\n",
              "    <tr>\n",
              "      <th>18</th>\n",
              "      <td>16.385487</td>\n",
              "      <td>2.937128</td>\n",
              "      <td>17.791899</td>\n",
              "      <td>3.097942</td>\n",
              "    </tr>\n",
              "    <tr>\n",
              "      <th>19</th>\n",
              "      <td>15.847239</td>\n",
              "      <td>2.869865</td>\n",
              "      <td>16.513220</td>\n",
              "      <td>2.782053</td>\n",
              "    </tr>\n",
              "    <tr>\n",
              "      <th>20</th>\n",
              "      <td>15.246076</td>\n",
              "      <td>2.807913</td>\n",
              "      <td>16.143106</td>\n",
              "      <td>2.938259</td>\n",
              "    </tr>\n",
              "    <tr>\n",
              "      <th>21</th>\n",
              "      <td>14.656563</td>\n",
              "      <td>2.814051</td>\n",
              "      <td>17.092003</td>\n",
              "      <td>3.143072</td>\n",
              "    </tr>\n",
              "    <tr>\n",
              "      <th>22</th>\n",
              "      <td>14.709126</td>\n",
              "      <td>2.766394</td>\n",
              "      <td>15.664103</td>\n",
              "      <td>2.736675</td>\n",
              "    </tr>\n",
              "    <tr>\n",
              "      <th>23</th>\n",
              "      <td>13.959744</td>\n",
              "      <td>2.702343</td>\n",
              "      <td>15.248810</td>\n",
              "      <td>2.740362</td>\n",
              "    </tr>\n",
              "    <tr>\n",
              "      <th>24</th>\n",
              "      <td>13.635749</td>\n",
              "      <td>2.667792</td>\n",
              "      <td>14.673349</td>\n",
              "      <td>2.678390</td>\n",
              "    </tr>\n",
              "    <tr>\n",
              "      <th>25</th>\n",
              "      <td>13.039915</td>\n",
              "      <td>2.602830</td>\n",
              "      <td>14.584893</td>\n",
              "      <td>2.684830</td>\n",
              "    </tr>\n",
              "    <tr>\n",
              "      <th>26</th>\n",
              "      <td>12.752543</td>\n",
              "      <td>2.592584</td>\n",
              "      <td>14.417349</td>\n",
              "      <td>2.621404</td>\n",
              "    </tr>\n",
              "    <tr>\n",
              "      <th>27</th>\n",
              "      <td>12.653635</td>\n",
              "      <td>2.559783</td>\n",
              "      <td>14.406960</td>\n",
              "      <td>2.631316</td>\n",
              "    </tr>\n",
              "    <tr>\n",
              "      <th>28</th>\n",
              "      <td>12.213721</td>\n",
              "      <td>2.523701</td>\n",
              "      <td>14.973741</td>\n",
              "      <td>2.822138</td>\n",
              "    </tr>\n",
              "    <tr>\n",
              "      <th>29</th>\n",
              "      <td>12.223609</td>\n",
              "      <td>2.503349</td>\n",
              "      <td>13.903725</td>\n",
              "      <td>2.603719</td>\n",
              "    </tr>\n",
              "    <tr>\n",
              "      <th>30</th>\n",
              "      <td>11.748800</td>\n",
              "      <td>2.512019</td>\n",
              "      <td>13.899107</td>\n",
              "      <td>2.565504</td>\n",
              "    </tr>\n",
              "    <tr>\n",
              "      <th>31</th>\n",
              "      <td>11.667338</td>\n",
              "      <td>2.455797</td>\n",
              "      <td>14.357237</td>\n",
              "      <td>2.745222</td>\n",
              "    </tr>\n",
              "    <tr>\n",
              "      <th>32</th>\n",
              "      <td>11.323130</td>\n",
              "      <td>2.471379</td>\n",
              "      <td>13.904210</td>\n",
              "      <td>2.663861</td>\n",
              "    </tr>\n",
              "    <tr>\n",
              "      <th>33</th>\n",
              "      <td>11.154578</td>\n",
              "      <td>2.449428</td>\n",
              "      <td>13.638700</td>\n",
              "      <td>2.561671</td>\n",
              "    </tr>\n",
              "    <tr>\n",
              "      <th>34</th>\n",
              "      <td>10.945175</td>\n",
              "      <td>2.386729</td>\n",
              "      <td>13.940995</td>\n",
              "      <td>2.566397</td>\n",
              "    </tr>\n",
              "    <tr>\n",
              "      <th>35</th>\n",
              "      <td>11.029452</td>\n",
              "      <td>2.369819</td>\n",
              "      <td>13.875260</td>\n",
              "      <td>2.511474</td>\n",
              "    </tr>\n",
              "    <tr>\n",
              "      <th>36</th>\n",
              "      <td>10.743970</td>\n",
              "      <td>2.399757</td>\n",
              "      <td>13.456935</td>\n",
              "      <td>2.496510</td>\n",
              "    </tr>\n",
              "    <tr>\n",
              "      <th>37</th>\n",
              "      <td>10.432022</td>\n",
              "      <td>2.321575</td>\n",
              "      <td>13.312304</td>\n",
              "      <td>2.548060</td>\n",
              "    </tr>\n",
              "    <tr>\n",
              "      <th>38</th>\n",
              "      <td>10.349394</td>\n",
              "      <td>2.302331</td>\n",
              "      <td>13.382299</td>\n",
              "      <td>2.573052</td>\n",
              "    </tr>\n",
              "    <tr>\n",
              "      <th>39</th>\n",
              "      <td>10.285407</td>\n",
              "      <td>2.308324</td>\n",
              "      <td>13.250169</td>\n",
              "      <td>2.544724</td>\n",
              "    </tr>\n",
              "    <tr>\n",
              "      <th>40</th>\n",
              "      <td>10.175654</td>\n",
              "      <td>2.253662</td>\n",
              "      <td>13.263014</td>\n",
              "      <td>2.580762</td>\n",
              "    </tr>\n",
              "    <tr>\n",
              "      <th>41</th>\n",
              "      <td>10.066923</td>\n",
              "      <td>2.257936</td>\n",
              "      <td>13.798190</td>\n",
              "      <td>2.570872</td>\n",
              "    </tr>\n",
              "    <tr>\n",
              "      <th>42</th>\n",
              "      <td>9.909816</td>\n",
              "      <td>2.264431</td>\n",
              "      <td>14.356849</td>\n",
              "      <td>2.593585</td>\n",
              "    </tr>\n",
              "    <tr>\n",
              "      <th>43</th>\n",
              "      <td>9.767836</td>\n",
              "      <td>2.217904</td>\n",
              "      <td>13.488396</td>\n",
              "      <td>2.545415</td>\n",
              "    </tr>\n",
              "    <tr>\n",
              "      <th>44</th>\n",
              "      <td>9.524181</td>\n",
              "      <td>2.202292</td>\n",
              "      <td>13.301729</td>\n",
              "      <td>2.503999</td>\n",
              "    </tr>\n",
              "    <tr>\n",
              "      <th>45</th>\n",
              "      <td>9.442058</td>\n",
              "      <td>2.169136</td>\n",
              "      <td>12.756184</td>\n",
              "      <td>2.488232</td>\n",
              "    </tr>\n",
              "    <tr>\n",
              "      <th>46</th>\n",
              "      <td>9.369097</td>\n",
              "      <td>2.211091</td>\n",
              "      <td>14.143827</td>\n",
              "      <td>2.606382</td>\n",
              "    </tr>\n",
              "    <tr>\n",
              "      <th>47</th>\n",
              "      <td>9.389368</td>\n",
              "      <td>2.180483</td>\n",
              "      <td>13.999798</td>\n",
              "      <td>2.771029</td>\n",
              "    </tr>\n",
              "    <tr>\n",
              "      <th>48</th>\n",
              "      <td>9.330405</td>\n",
              "      <td>2.198227</td>\n",
              "      <td>13.253802</td>\n",
              "      <td>2.495404</td>\n",
              "    </tr>\n",
              "    <tr>\n",
              "      <th>49</th>\n",
              "      <td>9.115485</td>\n",
              "      <td>2.143447</td>\n",
              "      <td>12.889600</td>\n",
              "      <td>2.456114</td>\n",
              "    </tr>\n",
              "    <tr>\n",
              "      <th>50</th>\n",
              "      <td>9.008017</td>\n",
              "      <td>2.144968</td>\n",
              "      <td>12.846679</td>\n",
              "      <td>2.447312</td>\n",
              "    </tr>\n",
              "    <tr>\n",
              "      <th>51</th>\n",
              "      <td>8.813602</td>\n",
              "      <td>2.127795</td>\n",
              "      <td>13.191374</td>\n",
              "      <td>2.560161</td>\n",
              "    </tr>\n",
              "    <tr>\n",
              "      <th>52</th>\n",
              "      <td>8.879478</td>\n",
              "      <td>2.112710</td>\n",
              "      <td>14.382912</td>\n",
              "      <td>2.607022</td>\n",
              "    </tr>\n",
              "    <tr>\n",
              "      <th>53</th>\n",
              "      <td>8.858855</td>\n",
              "      <td>2.101609</td>\n",
              "      <td>12.621792</td>\n",
              "      <td>2.448134</td>\n",
              "    </tr>\n",
              "    <tr>\n",
              "      <th>54</th>\n",
              "      <td>8.397735</td>\n",
              "      <td>2.060349</td>\n",
              "      <td>12.764046</td>\n",
              "      <td>2.510807</td>\n",
              "    </tr>\n",
              "    <tr>\n",
              "      <th>55</th>\n",
              "      <td>8.428576</td>\n",
              "      <td>2.052537</td>\n",
              "      <td>13.328877</td>\n",
              "      <td>2.497889</td>\n",
              "    </tr>\n",
              "    <tr>\n",
              "      <th>56</th>\n",
              "      <td>8.448830</td>\n",
              "      <td>2.064686</td>\n",
              "      <td>13.004989</td>\n",
              "      <td>2.552682</td>\n",
              "    </tr>\n",
              "    <tr>\n",
              "      <th>57</th>\n",
              "      <td>8.335910</td>\n",
              "      <td>2.053949</td>\n",
              "      <td>12.773665</td>\n",
              "      <td>2.463735</td>\n",
              "    </tr>\n",
              "    <tr>\n",
              "      <th>58</th>\n",
              "      <td>8.220722</td>\n",
              "      <td>2.058200</td>\n",
              "      <td>13.082499</td>\n",
              "      <td>2.520397</td>\n",
              "    </tr>\n",
              "    <tr>\n",
              "      <th>59</th>\n",
              "      <td>7.962357</td>\n",
              "      <td>1.998367</td>\n",
              "      <td>12.708501</td>\n",
              "      <td>2.449506</td>\n",
              "    </tr>\n",
              "  </tbody>\n",
              "</table>\n",
              "</div>\n",
              "    <div class=\"colab-df-buttons\">\n",
              "\n",
              "  <div class=\"colab-df-container\">\n",
              "    <button class=\"colab-df-convert\" onclick=\"convertToInteractive('df-d199de79-6590-4732-8638-420b6e1bd5f0')\"\n",
              "            title=\"Convert this dataframe to an interactive table.\"\n",
              "            style=\"display:none;\">\n",
              "\n",
              "  <svg xmlns=\"http://www.w3.org/2000/svg\" height=\"24px\" viewBox=\"0 -960 960 960\">\n",
              "    <path d=\"M120-120v-720h720v720H120Zm60-500h600v-160H180v160Zm220 220h160v-160H400v160Zm0 220h160v-160H400v160ZM180-400h160v-160H180v160Zm440 0h160v-160H620v160ZM180-180h160v-160H180v160Zm440 0h160v-160H620v160Z\"/>\n",
              "  </svg>\n",
              "    </button>\n",
              "\n",
              "  <style>\n",
              "    .colab-df-container {\n",
              "      display:flex;\n",
              "      gap: 12px;\n",
              "    }\n",
              "\n",
              "    .colab-df-convert {\n",
              "      background-color: #E8F0FE;\n",
              "      border: none;\n",
              "      border-radius: 50%;\n",
              "      cursor: pointer;\n",
              "      display: none;\n",
              "      fill: #1967D2;\n",
              "      height: 32px;\n",
              "      padding: 0 0 0 0;\n",
              "      width: 32px;\n",
              "    }\n",
              "\n",
              "    .colab-df-convert:hover {\n",
              "      background-color: #E2EBFA;\n",
              "      box-shadow: 0px 1px 2px rgba(60, 64, 67, 0.3), 0px 1px 3px 1px rgba(60, 64, 67, 0.15);\n",
              "      fill: #174EA6;\n",
              "    }\n",
              "\n",
              "    .colab-df-buttons div {\n",
              "      margin-bottom: 4px;\n",
              "    }\n",
              "\n",
              "    [theme=dark] .colab-df-convert {\n",
              "      background-color: #3B4455;\n",
              "      fill: #D2E3FC;\n",
              "    }\n",
              "\n",
              "    [theme=dark] .colab-df-convert:hover {\n",
              "      background-color: #434B5C;\n",
              "      box-shadow: 0px 1px 3px 1px rgba(0, 0, 0, 0.15);\n",
              "      filter: drop-shadow(0px 1px 2px rgba(0, 0, 0, 0.3));\n",
              "      fill: #FFFFFF;\n",
              "    }\n",
              "  </style>\n",
              "\n",
              "    <script>\n",
              "      const buttonEl =\n",
              "        document.querySelector('#df-d199de79-6590-4732-8638-420b6e1bd5f0 button.colab-df-convert');\n",
              "      buttonEl.style.display =\n",
              "        google.colab.kernel.accessAllowed ? 'block' : 'none';\n",
              "\n",
              "      async function convertToInteractive(key) {\n",
              "        const element = document.querySelector('#df-d199de79-6590-4732-8638-420b6e1bd5f0');\n",
              "        const dataTable =\n",
              "          await google.colab.kernel.invokeFunction('convertToInteractive',\n",
              "                                                    [key], {});\n",
              "        if (!dataTable) return;\n",
              "\n",
              "        const docLinkHtml = 'Like what you see? Visit the ' +\n",
              "          '<a target=\"_blank\" href=https://colab.research.google.com/notebooks/data_table.ipynb>data table notebook</a>'\n",
              "          + ' to learn more about interactive tables.';\n",
              "        element.innerHTML = '';\n",
              "        dataTable['output_type'] = 'display_data';\n",
              "        await google.colab.output.renderOutput(dataTable, element);\n",
              "        const docLink = document.createElement('div');\n",
              "        docLink.innerHTML = docLinkHtml;\n",
              "        element.appendChild(docLink);\n",
              "      }\n",
              "    </script>\n",
              "  </div>\n",
              "\n",
              "\n",
              "<div id=\"df-039b1d35-b38b-43a5-b38e-b84dc34a8f59\">\n",
              "  <button class=\"colab-df-quickchart\" onclick=\"quickchart('df-039b1d35-b38b-43a5-b38e-b84dc34a8f59')\"\n",
              "            title=\"Suggest charts\"\n",
              "            style=\"display:none;\">\n",
              "\n",
              "<svg xmlns=\"http://www.w3.org/2000/svg\" height=\"24px\"viewBox=\"0 0 24 24\"\n",
              "     width=\"24px\">\n",
              "    <g>\n",
              "        <path d=\"M19 3H5c-1.1 0-2 .9-2 2v14c0 1.1.9 2 2 2h14c1.1 0 2-.9 2-2V5c0-1.1-.9-2-2-2zM9 17H7v-7h2v7zm4 0h-2V7h2v10zm4 0h-2v-4h2v4z\"/>\n",
              "    </g>\n",
              "</svg>\n",
              "  </button>\n",
              "\n",
              "<style>\n",
              "  .colab-df-quickchart {\n",
              "      --bg-color: #E8F0FE;\n",
              "      --fill-color: #1967D2;\n",
              "      --hover-bg-color: #E2EBFA;\n",
              "      --hover-fill-color: #174EA6;\n",
              "      --disabled-fill-color: #AAA;\n",
              "      --disabled-bg-color: #DDD;\n",
              "  }\n",
              "\n",
              "  [theme=dark] .colab-df-quickchart {\n",
              "      --bg-color: #3B4455;\n",
              "      --fill-color: #D2E3FC;\n",
              "      --hover-bg-color: #434B5C;\n",
              "      --hover-fill-color: #FFFFFF;\n",
              "      --disabled-bg-color: #3B4455;\n",
              "      --disabled-fill-color: #666;\n",
              "  }\n",
              "\n",
              "  .colab-df-quickchart {\n",
              "    background-color: var(--bg-color);\n",
              "    border: none;\n",
              "    border-radius: 50%;\n",
              "    cursor: pointer;\n",
              "    display: none;\n",
              "    fill: var(--fill-color);\n",
              "    height: 32px;\n",
              "    padding: 0;\n",
              "    width: 32px;\n",
              "  }\n",
              "\n",
              "  .colab-df-quickchart:hover {\n",
              "    background-color: var(--hover-bg-color);\n",
              "    box-shadow: 0 1px 2px rgba(60, 64, 67, 0.3), 0 1px 3px 1px rgba(60, 64, 67, 0.15);\n",
              "    fill: var(--button-hover-fill-color);\n",
              "  }\n",
              "\n",
              "  .colab-df-quickchart-complete:disabled,\n",
              "  .colab-df-quickchart-complete:disabled:hover {\n",
              "    background-color: var(--disabled-bg-color);\n",
              "    fill: var(--disabled-fill-color);\n",
              "    box-shadow: none;\n",
              "  }\n",
              "\n",
              "  .colab-df-spinner {\n",
              "    border: 2px solid var(--fill-color);\n",
              "    border-color: transparent;\n",
              "    border-bottom-color: var(--fill-color);\n",
              "    animation:\n",
              "      spin 1s steps(1) infinite;\n",
              "  }\n",
              "\n",
              "  @keyframes spin {\n",
              "    0% {\n",
              "      border-color: transparent;\n",
              "      border-bottom-color: var(--fill-color);\n",
              "      border-left-color: var(--fill-color);\n",
              "    }\n",
              "    20% {\n",
              "      border-color: transparent;\n",
              "      border-left-color: var(--fill-color);\n",
              "      border-top-color: var(--fill-color);\n",
              "    }\n",
              "    30% {\n",
              "      border-color: transparent;\n",
              "      border-left-color: var(--fill-color);\n",
              "      border-top-color: var(--fill-color);\n",
              "      border-right-color: var(--fill-color);\n",
              "    }\n",
              "    40% {\n",
              "      border-color: transparent;\n",
              "      border-right-color: var(--fill-color);\n",
              "      border-top-color: var(--fill-color);\n",
              "    }\n",
              "    60% {\n",
              "      border-color: transparent;\n",
              "      border-right-color: var(--fill-color);\n",
              "    }\n",
              "    80% {\n",
              "      border-color: transparent;\n",
              "      border-right-color: var(--fill-color);\n",
              "      border-bottom-color: var(--fill-color);\n",
              "    }\n",
              "    90% {\n",
              "      border-color: transparent;\n",
              "      border-bottom-color: var(--fill-color);\n",
              "    }\n",
              "  }\n",
              "</style>\n",
              "\n",
              "  <script>\n",
              "    async function quickchart(key) {\n",
              "      const quickchartButtonEl =\n",
              "        document.querySelector('#' + key + ' button');\n",
              "      quickchartButtonEl.disabled = true;  // To prevent multiple clicks.\n",
              "      quickchartButtonEl.classList.add('colab-df-spinner');\n",
              "      try {\n",
              "        const charts = await google.colab.kernel.invokeFunction(\n",
              "            'suggestCharts', [key], {});\n",
              "      } catch (error) {\n",
              "        console.error('Error during call to suggestCharts:', error);\n",
              "      }\n",
              "      quickchartButtonEl.classList.remove('colab-df-spinner');\n",
              "      quickchartButtonEl.classList.add('colab-df-quickchart-complete');\n",
              "    }\n",
              "    (() => {\n",
              "      let quickchartButtonEl =\n",
              "        document.querySelector('#df-039b1d35-b38b-43a5-b38e-b84dc34a8f59 button');\n",
              "      quickchartButtonEl.style.display =\n",
              "        google.colab.kernel.accessAllowed ? 'block' : 'none';\n",
              "    })();\n",
              "  </script>\n",
              "</div>\n",
              "    </div>\n",
              "  </div>\n"
            ]
          },
          "metadata": {}
        }
      ]
    },
    {
      "cell_type": "code",
      "source": [
        "print(\"min( val_mae ) : {:.4f}\".format( min(history.history[\"val_mae\"]) ) )"
      ],
      "metadata": {
        "colab": {
          "base_uri": "https://localhost:8080/"
        },
        "id": "q3CC28B16UHT",
        "outputId": "3a27babb-071d-4664-fea0-ab42d901a474"
      },
      "execution_count": null,
      "outputs": [
        {
          "output_type": "stream",
          "name": "stdout",
          "text": [
            "min( val_mae ) : 2.4473\n"
          ]
        }
      ]
    },
    {
      "cell_type": "code",
      "source": [
        "history.history.keys()"
      ],
      "metadata": {
        "colab": {
          "base_uri": "https://localhost:8080/"
        },
        "id": "2Ps1brPN6xEh",
        "outputId": "6344c455-4734-4f81-e289-9a4914ae23be"
      },
      "execution_count": null,
      "outputs": [
        {
          "output_type": "execute_result",
          "data": {
            "text/plain": [
              "dict_keys(['loss', 'mae', 'val_loss', 'val_mae'])"
            ]
          },
          "metadata": {},
          "execution_count": 14
        }
      ]
    },
    {
      "cell_type": "code",
      "source": [
        "\n",
        "plt.plot(history.history['loss'],linestyle='--', marker='+', label='train' )\n",
        "plt.plot(history.history['val_loss'],linestyle='--', marker='o', label='test')\n",
        "plt.title('LOSS', pad=-50)\n",
        "plt.legend()\n",
        "#plt.title('lrate='+str(lrate), pad=-50)\n",
        "\n"
      ],
      "metadata": {
        "id": "2V_QxA_-6XQ2",
        "colab": {
          "base_uri": "https://localhost:8080/",
          "height": 465
        },
        "outputId": "5d405051-111f-46c9-f427-812d19efeb1d"
      },
      "execution_count": null,
      "outputs": [
        {
          "output_type": "execute_result",
          "data": {
            "text/plain": [
              "<matplotlib.legend.Legend at 0x7a0080149f00>"
            ]
          },
          "metadata": {},
          "execution_count": 15
        },
        {
          "output_type": "display_data",
          "data": {
            "text/plain": [
              "<Figure size 640x480 with 1 Axes>"
            ],
            "image/png": "[encoded data removed]"
          },
          "metadata": {}
        }
      ]
    },
    {
      "cell_type": "code",
      "source": [
        "plt.plot(history.history['mae'],linestyle='--', marker='+', label='train' )\n",
        "plt.plot(history.history['val_mae'],linestyle='--', marker='o', label='test')\n",
        "plt.title('MAE', pad=-50)\n",
        "plt.legend()"
      ],
      "metadata": {
        "id": "DPlUFKOy77Cr",
        "colab": {
          "base_uri": "https://localhost:8080/",
          "height": 465
        },
        "outputId": "afba043e-3b49-4dd2-af53-ff7b80448936"
      },
      "execution_count": null,
      "outputs": [
        {
          "output_type": "execute_result",
          "data": {
            "text/plain": [
              "<matplotlib.legend.Legend at 0x7a0080213580>"
            ]
          },
          "metadata": {},
          "execution_count": 16
        },
        {
          "output_type": "display_data",
          "data": {
            "text/plain": [
              "<Figure size 640x480 with 1 Axes>"
            ],
            "image/png": "[encoded data removed]"
          },
          "metadata": {}
        }
      ]
    },
    {
      "cell_type": "markdown",
      "source": [
        "## Exe 9: Model Prediction\n",
        "\n",
        "Use the trained neural network model, to predict the price of a given house and compare the result with the ground truth"
      ],
      "metadata": {
        "id": "4tuYScCT8Rah"
      }
    },
    {
      "cell_type": "code",
      "source": [
        "\n",
        "\n",
        "my_house = [ 1.26425925, -0.48522739,  1.0436489 , -0.23112788,  1.37120745,\n",
        "       -2.14308942,  1.13489104, -1.06802005,  1.71189006,  1.57042287,\n",
        "        0.77859951,  0.14769795,  2.7585581 ]\n",
        "real_price = 10.4\n",
        "\n",
        "my_house= np.array([my_house])\n",
        "\n"
      ],
      "metadata": {
        "id": "fiRxcz2m8Ybg"
      },
      "execution_count": null,
      "outputs": []
    },
    {
      "cell_type": "code",
      "source": [
        "\n",
        "\n",
        "predictions = model.predict(my_house)\n",
        "print(\"Prediction : {:.2f} K$\".format(predictions[0][0]))\n",
        "print(\"Reality    : {:.2f} K$\".format(real_price))\n",
        "\n"
      ],
      "metadata": {
        "id": "5REqbpBf8cF_",
        "colab": {
          "base_uri": "https://localhost:8080/"
        },
        "outputId": "fb00f494-6f40-476f-baa9-507d70eb0958"
      },
      "execution_count": null,
      "outputs": [
        {
          "output_type": "stream",
          "name": "stdout",
          "text": [
            "1/1 [==============================] - 0s 128ms/step\n",
            "Prediction : 9.40 K$\n",
            "Reality    : 10.40 K$\n"
          ]
        }
      ]
    },
    {
      "cell_type": "markdown",
      "source": [
        "## Exe 10 Early stoping\n",
        "\n",
        "Create a neural network with the following specifications:\n",
        "\n",
        "* Number of hidden layers: 2\n",
        "* Number of units in each hidden layer: 64\n",
        "* Activation function for the hidden layers: ReLU\n",
        "* Output layer: Single unit with no activation function (for linear output)\n",
        "* Loss function: Mean Squared Error (MSE)\n",
        "* Additional metric to monitor during training: Mean Absolute Error (MAE)\n",
        "* Optimizer: 'rmsprop'\n",
        "* Apply dropout after each hidden layer with a dropout rate of 0.5 (50% of nodes dropped randomly for the following layer)\n",
        "* Minibatch size: 100\n",
        "* Use early stopping for fitting the model with patience=20 and epochs = 300\n",
        "* Save the best model as 'model_best'\n",
        "* Evaluate the saved model on the test data"
      ],
      "metadata": {
        "id": "Al8LGaguGbFw"
      }
    },
    {
      "cell_type": "code",
      "source": [
        "  model = keras.models.Sequential()\n",
        "  # Adding layers to the model\n",
        "  model.add(layers.Dense(64, activation='relu', input_shape=(x_train.shape[1],)))\n",
        "  model.add(layers.Dropout(0.5))  # Dropout after the first hidden layer\n",
        "  model.add(layers.Dense(64, activation='relu'))\n",
        "  model.add(layers.Dropout(0.5))  # Dropout after the second hidden layer\n",
        "  model.add(layers.Dense(1))      # Output layer\n"
      ],
      "metadata": {
        "id": "VHeSqPpOHleE"
      },
      "execution_count": null,
      "outputs": []
    },
    {
      "cell_type": "code",
      "source": [
        "from keras.callbacks import ModelCheckpoint\n",
        "from keras.callbacks import EarlyStopping\n",
        "from keras.models import load_model"
      ],
      "metadata": {
        "id": "l6g9Bx-DGarX"
      },
      "execution_count": null,
      "outputs": []
    },
    {
      "cell_type": "code",
      "source": [
        "# Callbacks\n",
        "es = EarlyStopping(monitor='val_loss', mode='min', verbose=1, patience=20)\n",
        "mc = ModelCheckpoint('model_best.h5', monitor='val_loss', mode='min', save_best_only=True)\n",
        "\n",
        "# Compile the model\n",
        "model.compile(optimizer='rmsprop', loss='mse', metrics=['mae'])"
      ],
      "metadata": {
        "id": "t4cpGLcuHN_y"
      },
      "execution_count": null,
      "outputs": []
    },
    {
      "cell_type": "code",
      "source": [
        "history = model.fit(x_train, y_train, epochs=300, batch_size=100,\n",
        "                    validation_data=(x_test, y_test), callbacks=[es, mc], verbose=1)\n"
      ],
      "metadata": {
        "id": "Lh0TNO83Hdzi",
        "colab": {
          "base_uri": "https://localhost:8080/"
        },
        "outputId": "19d4b421-88d3-4b93-facb-582383343531"
      },
      "execution_count": null,
      "outputs": [
        {
          "output_type": "stream",
          "name": "stdout",
          "text": [
            "Epoch 1/300\n",
            "4/4 [==============================] - 2s 64ms/step - loss: 576.0698 - mae: 22.0986 - val_loss: 508.4419 - val_mae: 20.9266\n",
            "Epoch 2/300\n",
            "4/4 [==============================] - 0s 17ms/step - loss: 546.3490 - mae: 21.4513 - val_loss: 481.7961 - val_mae: 20.2958\n",
            "Epoch 3/300\n",
            "4/4 [==============================] - 0s 16ms/step - loss: 512.6773 - mae: 20.6915 - val_loss: 454.8480 - val_mae: 19.6413\n",
            "Epoch 4/300\n",
            "4/4 [==============================] - 0s 16ms/step - loss: 483.6616 - mae: 20.0568 - val_loss: 427.3295 - val_mae: 18.9642\n",
            "Epoch 5/300\n"
          ]
        },
        {
          "output_type": "stream",
          "name": "stderr",
          "text": [
            "/usr/local/lib/python3.10/dist-packages/keras/src/engine/training.py:3103: UserWarning: You are saving your model as an HDF5 file via `model.save()`. This file format is considered legacy. We recommend using instead the native Keras format, e.g. `model.save('my_model.keras')`.\n",
            "  saving_api.save_model(\n"
          ]
        },
        {
          "output_type": "stream",
          "name": "stdout",
          "text": [
            "4/4 [==============================] - 0s 16ms/step - loss: 450.8640 - mae: 19.1995 - val_loss: 399.0981 - val_mae: 18.2403\n",
            "Epoch 6/300\n",
            "4/4 [==============================] - 0s 16ms/step - loss: 434.2579 - mae: 18.7642 - val_loss: 370.6732 - val_mae: 17.4919\n",
            "Epoch 7/300\n",
            "4/4 [==============================] - 0s 16ms/step - loss: 395.0736 - mae: 17.8040 - val_loss: 339.8308 - val_mae: 16.6691\n",
            "Epoch 8/300\n",
            "4/4 [==============================] - 0s 16ms/step - loss: 364.9458 - mae: 16.8445 - val_loss: 308.9051 - val_mae: 15.7936\n",
            "Epoch 9/300\n",
            "4/4 [==============================] - 0s 17ms/step - loss: 337.4354 - mae: 16.0850 - val_loss: 277.6892 - val_mae: 14.8649\n",
            "Epoch 10/300\n",
            "4/4 [==============================] - 0s 21ms/step - loss: 305.1948 - mae: 15.1747 - val_loss: 245.8763 - val_mae: 13.8691\n",
            "Epoch 11/300\n",
            "4/4 [==============================] - 0s 18ms/step - loss: 281.2411 - mae: 14.3850 - val_loss: 216.7643 - val_mae: 12.8836\n",
            "Epoch 12/300\n",
            "4/4 [==============================] - 0s 18ms/step - loss: 242.3190 - mae: 13.2457 - val_loss: 188.8243 - val_mae: 11.8846\n",
            "Epoch 13/300\n",
            "4/4 [==============================] - 0s 19ms/step - loss: 221.6858 - mae: 12.5689 - val_loss: 162.7326 - val_mae: 10.9031\n",
            "Epoch 14/300\n",
            "4/4 [==============================] - 0s 21ms/step - loss: 182.6399 - mae: 11.2536 - val_loss: 140.7662 - val_mae: 9.9786\n",
            "Epoch 15/300\n",
            "4/4 [==============================] - 0s 15ms/step - loss: 176.7137 - mae: 10.7414 - val_loss: 121.2548 - val_mae: 9.1094\n",
            "Epoch 16/300\n",
            "4/4 [==============================] - 0s 21ms/step - loss: 148.8654 - mae: 10.0466 - val_loss: 103.3260 - val_mae: 8.2139\n",
            "Epoch 17/300\n",
            "4/4 [==============================] - 0s 22ms/step - loss: 137.8677 - mae: 9.3711 - val_loss: 90.4533 - val_mae: 7.5844\n",
            "Epoch 18/300\n",
            "4/4 [==============================] - 0s 22ms/step - loss: 126.7637 - mae: 9.0112 - val_loss: 77.6837 - val_mae: 6.9316\n",
            "Epoch 19/300\n",
            "4/4 [==============================] - 0s 21ms/step - loss: 119.5045 - mae: 8.5856 - val_loss: 68.6774 - val_mae: 6.4669\n",
            "Epoch 20/300\n",
            "4/4 [==============================] - 0s 22ms/step - loss: 107.2990 - mae: 8.1404 - val_loss: 60.9804 - val_mae: 6.0561\n",
            "Epoch 21/300\n",
            "4/4 [==============================] - 0s 16ms/step - loss: 91.1620 - mae: 7.5188 - val_loss: 56.5967 - val_mae: 5.8037\n",
            "Epoch 22/300\n",
            "4/4 [==============================] - 0s 16ms/step - loss: 97.9127 - mae: 7.5378 - val_loss: 50.4243 - val_mae: 5.4483\n",
            "Epoch 23/300\n",
            "4/4 [==============================] - 0s 17ms/step - loss: 87.8122 - mae: 7.1337 - val_loss: 46.0807 - val_mae: 5.1798\n",
            "Epoch 24/300\n",
            "4/4 [==============================] - 0s 22ms/step - loss: 85.8012 - mae: 7.1143 - val_loss: 43.6021 - val_mae: 5.0082\n",
            "Epoch 25/300\n",
            "4/4 [==============================] - 0s 16ms/step - loss: 81.3520 - mae: 6.9121 - val_loss: 40.2423 - val_mae: 4.7867\n",
            "Epoch 26/300\n",
            "4/4 [==============================] - 0s 22ms/step - loss: 84.2569 - mae: 6.8735 - val_loss: 37.7175 - val_mae: 4.6219\n",
            "Epoch 27/300\n",
            "4/4 [==============================] - 0s 16ms/step - loss: 76.4002 - mae: 6.7464 - val_loss: 36.3171 - val_mae: 4.5206\n",
            "Epoch 28/300\n",
            "4/4 [==============================] - 0s 22ms/step - loss: 73.6255 - mae: 6.4009 - val_loss: 34.7048 - val_mae: 4.3974\n",
            "Epoch 29/300\n",
            "4/4 [==============================] - 0s 21ms/step - loss: 69.5733 - mae: 6.4097 - val_loss: 31.4833 - val_mae: 4.1490\n",
            "Epoch 30/300\n",
            "4/4 [==============================] - 0s 21ms/step - loss: 63.7739 - mae: 6.1742 - val_loss: 29.6041 - val_mae: 4.0286\n",
            "Epoch 31/300\n",
            "4/4 [==============================] - 0s 17ms/step - loss: 64.4758 - mae: 6.1702 - val_loss: 29.7869 - val_mae: 4.0335\n",
            "Epoch 32/300\n",
            "4/4 [==============================] - 0s 16ms/step - loss: 64.2032 - mae: 6.0756 - val_loss: 28.8530 - val_mae: 3.9444\n",
            "Epoch 33/300\n",
            "4/4 [==============================] - 0s 16ms/step - loss: 57.9140 - mae: 5.6621 - val_loss: 27.7683 - val_mae: 3.8540\n",
            "Epoch 34/300\n",
            "4/4 [==============================] - 0s 12ms/step - loss: 72.0976 - mae: 6.2575 - val_loss: 29.4804 - val_mae: 3.9983\n",
            "Epoch 35/300\n",
            "4/4 [==============================] - 0s 16ms/step - loss: 60.5043 - mae: 6.0210 - val_loss: 26.8943 - val_mae: 3.7567\n",
            "Epoch 36/300\n",
            "4/4 [==============================] - 0s 22ms/step - loss: 59.2930 - mae: 5.7780 - val_loss: 25.9629 - val_mae: 3.6895\n",
            "Epoch 37/300\n",
            "4/4 [==============================] - 0s 17ms/step - loss: 64.9480 - mae: 6.0861 - val_loss: 24.6032 - val_mae: 3.5503\n",
            "Epoch 38/300\n",
            "4/4 [==============================] - 0s 14ms/step - loss: 57.7949 - mae: 5.6617 - val_loss: 24.6249 - val_mae: 3.5419\n",
            "Epoch 39/300\n",
            "4/4 [==============================] - 0s 16ms/step - loss: 60.9325 - mae: 5.8759 - val_loss: 24.4392 - val_mae: 3.4996\n",
            "Epoch 40/300\n",
            "4/4 [==============================] - 0s 16ms/step - loss: 55.9572 - mae: 5.6168 - val_loss: 24.0577 - val_mae: 3.4638\n",
            "Epoch 41/300\n",
            "4/4 [==============================] - 0s 27ms/step - loss: 61.6516 - mae: 5.8600 - val_loss: 23.0083 - val_mae: 3.3739\n",
            "Epoch 42/300\n",
            "4/4 [==============================] - 0s 19ms/step - loss: 60.9588 - mae: 5.8721 - val_loss: 23.4187 - val_mae: 3.3975\n",
            "Epoch 43/300\n",
            "4/4 [==============================] - 0s 23ms/step - loss: 50.8302 - mae: 5.2859 - val_loss: 21.9387 - val_mae: 3.2642\n",
            "Epoch 44/300\n",
            "4/4 [==============================] - 0s 23ms/step - loss: 55.8087 - mae: 5.7994 - val_loss: 22.8797 - val_mae: 3.3314\n",
            "Epoch 45/300\n",
            "4/4 [==============================] - 0s 17ms/step - loss: 51.5757 - mae: 5.3400 - val_loss: 22.4986 - val_mae: 3.2987\n",
            "Epoch 46/300\n",
            "4/4 [==============================] - 0s 23ms/step - loss: 60.2208 - mae: 5.7349 - val_loss: 21.5383 - val_mae: 3.2086\n",
            "Epoch 47/300\n",
            "4/4 [==============================] - 0s 22ms/step - loss: 51.0203 - mae: 5.2254 - val_loss: 21.0531 - val_mae: 3.1614\n",
            "Epoch 48/300\n",
            "4/4 [==============================] - 0s 27ms/step - loss: 57.5017 - mae: 5.6298 - val_loss: 20.4995 - val_mae: 3.1048\n",
            "Epoch 49/300\n",
            "4/4 [==============================] - 0s 18ms/step - loss: 50.6174 - mae: 5.4372 - val_loss: 21.7182 - val_mae: 3.2441\n",
            "Epoch 50/300\n",
            "4/4 [==============================] - 0s 20ms/step - loss: 46.6338 - mae: 5.2640 - val_loss: 20.5627 - val_mae: 3.0929\n",
            "Epoch 51/300\n",
            "4/4 [==============================] - 0s 24ms/step - loss: 51.7484 - mae: 5.4062 - val_loss: 20.0805 - val_mae: 3.0392\n",
            "Epoch 52/300\n",
            "4/4 [==============================] - 0s 26ms/step - loss: 53.5261 - mae: 5.3675 - val_loss: 20.0281 - val_mae: 3.0121\n",
            "Epoch 53/300\n",
            "4/4 [==============================] - 0s 26ms/step - loss: 50.0270 - mae: 5.4286 - val_loss: 19.7201 - val_mae: 2.9869\n",
            "Epoch 54/300\n",
            "4/4 [==============================] - 0s 21ms/step - loss: 54.9021 - mae: 5.4763 - val_loss: 20.1783 - val_mae: 3.0316\n",
            "Epoch 55/300\n",
            "4/4 [==============================] - 0s 17ms/step - loss: 55.4873 - mae: 5.5653 - val_loss: 20.0398 - val_mae: 2.9920\n",
            "Epoch 56/300\n",
            "4/4 [==============================] - 0s 21ms/step - loss: 56.0799 - mae: 5.7469 - val_loss: 20.7252 - val_mae: 3.1180\n",
            "Epoch 57/300\n",
            "4/4 [==============================] - 0s 24ms/step - loss: 48.7651 - mae: 5.2655 - val_loss: 19.7623 - val_mae: 3.0286\n",
            "Epoch 58/300\n",
            "4/4 [==============================] - 0s 27ms/step - loss: 45.1697 - mae: 5.1339 - val_loss: 19.4360 - val_mae: 2.9971\n",
            "Epoch 59/300\n",
            "4/4 [==============================] - 0s 26ms/step - loss: 48.6783 - mae: 5.1727 - val_loss: 18.5883 - val_mae: 2.9320\n",
            "Epoch 60/300\n",
            "4/4 [==============================] - 0s 30ms/step - loss: 52.4154 - mae: 5.3966 - val_loss: 17.6237 - val_mae: 2.8092\n",
            "Epoch 61/300\n",
            "4/4 [==============================] - 0s 23ms/step - loss: 44.0856 - mae: 5.0213 - val_loss: 17.9037 - val_mae: 2.8359\n",
            "Epoch 62/300\n",
            "4/4 [==============================] - 0s 16ms/step - loss: 45.8706 - mae: 5.0881 - val_loss: 19.8237 - val_mae: 3.0526\n",
            "Epoch 63/300\n",
            "4/4 [==============================] - 0s 20ms/step - loss: 52.6386 - mae: 5.4291 - val_loss: 18.9808 - val_mae: 2.9603\n",
            "Epoch 64/300\n",
            "4/4 [==============================] - 0s 16ms/step - loss: 52.7721 - mae: 5.3875 - val_loss: 19.2479 - val_mae: 2.9782\n",
            "Epoch 65/300\n",
            "4/4 [==============================] - 0s 15ms/step - loss: 51.4420 - mae: 5.3046 - val_loss: 19.2736 - val_mae: 2.9857\n",
            "Epoch 66/300\n",
            "4/4 [==============================] - 0s 23ms/step - loss: 46.2271 - mae: 5.1015 - val_loss: 18.1439 - val_mae: 2.8643\n",
            "Epoch 67/300\n",
            "4/4 [==============================] - 0s 17ms/step - loss: 47.8228 - mae: 5.1376 - val_loss: 17.7621 - val_mae: 2.8130\n",
            "Epoch 68/300\n",
            "4/4 [==============================] - 0s 27ms/step - loss: 43.9352 - mae: 5.1978 - val_loss: 17.5166 - val_mae: 2.7675\n",
            "Epoch 69/300\n",
            "4/4 [==============================] - 0s 23ms/step - loss: 45.2483 - mae: 5.3832 - val_loss: 16.7113 - val_mae: 2.7278\n",
            "Epoch 70/300\n",
            "4/4 [==============================] - 0s 21ms/step - loss: 52.5787 - mae: 5.2872 - val_loss: 17.1217 - val_mae: 2.7501\n",
            "Epoch 71/300\n",
            "4/4 [==============================] - 0s 21ms/step - loss: 54.3107 - mae: 5.3739 - val_loss: 16.9532 - val_mae: 2.7356\n",
            "Epoch 72/300\n",
            "4/4 [==============================] - 0s 19ms/step - loss: 49.3268 - mae: 5.3230 - val_loss: 17.8893 - val_mae: 2.8212\n",
            "Epoch 73/300\n",
            "4/4 [==============================] - 0s 22ms/step - loss: 46.8372 - mae: 5.0408 - val_loss: 17.7457 - val_mae: 2.8184\n",
            "Epoch 74/300\n",
            "4/4 [==============================] - 0s 23ms/step - loss: 45.5060 - mae: 4.8778 - val_loss: 18.1259 - val_mae: 2.8607\n",
            "Epoch 75/300\n",
            "4/4 [==============================] - 0s 18ms/step - loss: 45.9574 - mae: 5.0912 - val_loss: 18.1413 - val_mae: 2.8596\n",
            "Epoch 76/300\n",
            "4/4 [==============================] - 0s 22ms/step - loss: 44.8185 - mae: 5.0226 - val_loss: 18.0436 - val_mae: 2.8249\n",
            "Epoch 77/300\n",
            "4/4 [==============================] - 0s 20ms/step - loss: 42.4572 - mae: 4.9847 - val_loss: 17.5322 - val_mae: 2.8125\n",
            "Epoch 78/300\n",
            "4/4 [==============================] - 0s 20ms/step - loss: 52.7256 - mae: 5.3766 - val_loss: 17.3379 - val_mae: 2.8029\n",
            "Epoch 79/300\n",
            "4/4 [==============================] - 0s 22ms/step - loss: 43.6241 - mae: 4.8543 - val_loss: 16.8814 - val_mae: 2.7532\n",
            "Epoch 80/300\n",
            "4/4 [==============================] - 0s 12ms/step - loss: 43.8859 - mae: 5.0024 - val_loss: 16.9222 - val_mae: 2.7385\n",
            "Epoch 81/300\n",
            "4/4 [==============================] - 0s 17ms/step - loss: 52.2566 - mae: 5.1841 - val_loss: 17.0793 - val_mae: 2.7554\n",
            "Epoch 82/300\n",
            "4/4 [==============================] - 0s 21ms/step - loss: 49.1431 - mae: 5.1761 - val_loss: 16.6697 - val_mae: 2.7373\n",
            "Epoch 83/300\n",
            "4/4 [==============================] - 0s 11ms/step - loss: 53.1589 - mae: 5.2857 - val_loss: 16.8481 - val_mae: 2.7548\n",
            "Epoch 84/300\n",
            "4/4 [==============================] - 0s 11ms/step - loss: 51.4941 - mae: 5.1037 - val_loss: 18.4763 - val_mae: 2.9169\n",
            "Epoch 85/300\n",
            "4/4 [==============================] - 0s 12ms/step - loss: 50.3352 - mae: 5.2859 - val_loss: 17.8683 - val_mae: 2.8561\n",
            "Epoch 86/300\n",
            "4/4 [==============================] - 0s 14ms/step - loss: 46.8197 - mae: 5.0551 - val_loss: 18.2724 - val_mae: 2.9048\n",
            "Epoch 87/300\n",
            "4/4 [==============================] - 0s 11ms/step - loss: 43.0623 - mae: 5.0227 - val_loss: 18.2758 - val_mae: 2.8728\n",
            "Epoch 88/300\n",
            "4/4 [==============================] - 0s 17ms/step - loss: 41.7638 - mae: 4.7982 - val_loss: 16.3950 - val_mae: 2.7323\n",
            "Epoch 89/300\n",
            "4/4 [==============================] - 0s 12ms/step - loss: 41.1343 - mae: 4.9316 - val_loss: 16.8517 - val_mae: 2.7484\n",
            "Epoch 90/300\n",
            "4/4 [==============================] - 0s 16ms/step - loss: 46.1644 - mae: 4.9453 - val_loss: 16.3241 - val_mae: 2.7236\n",
            "Epoch 91/300\n",
            "4/4 [==============================] - 0s 12ms/step - loss: 40.0462 - mae: 4.7246 - val_loss: 16.7053 - val_mae: 2.7611\n",
            "Epoch 92/300\n",
            "4/4 [==============================] - 0s 12ms/step - loss: 39.9624 - mae: 4.7824 - val_loss: 19.4694 - val_mae: 3.0967\n",
            "Epoch 93/300\n",
            "4/4 [==============================] - 0s 12ms/step - loss: 44.1820 - mae: 5.0217 - val_loss: 18.1035 - val_mae: 2.9368\n",
            "Epoch 94/300\n",
            "4/4 [==============================] - 0s 11ms/step - loss: 41.9806 - mae: 4.7157 - val_loss: 17.4735 - val_mae: 2.8261\n",
            "Epoch 95/300\n",
            "4/4 [==============================] - 0s 15ms/step - loss: 40.5952 - mae: 4.8170 - val_loss: 16.1236 - val_mae: 2.7346\n",
            "Epoch 96/300\n",
            "4/4 [==============================] - 0s 21ms/step - loss: 46.1822 - mae: 4.9537 - val_loss: 16.0161 - val_mae: 2.6981\n",
            "Epoch 97/300\n",
            "4/4 [==============================] - 0s 18ms/step - loss: 41.9313 - mae: 4.6230 - val_loss: 16.0415 - val_mae: 2.6944\n",
            "Epoch 98/300\n",
            "4/4 [==============================] - 0s 17ms/step - loss: 41.9058 - mae: 4.6908 - val_loss: 17.8130 - val_mae: 2.8711\n",
            "Epoch 99/300\n",
            "4/4 [==============================] - 0s 12ms/step - loss: 42.1406 - mae: 4.7525 - val_loss: 17.9364 - val_mae: 2.8902\n",
            "Epoch 100/300\n",
            "4/4 [==============================] - 0s 17ms/step - loss: 35.3772 - mae: 4.5599 - val_loss: 16.8606 - val_mae: 2.7766\n",
            "Epoch 101/300\n",
            "4/4 [==============================] - 0s 18ms/step - loss: 41.5619 - mae: 4.7506 - val_loss: 16.7091 - val_mae: 2.7521\n",
            "Epoch 102/300\n",
            "4/4 [==============================] - 0s 17ms/step - loss: 41.3885 - mae: 4.8296 - val_loss: 17.7197 - val_mae: 2.8395\n",
            "Epoch 103/300\n",
            "4/4 [==============================] - 0s 17ms/step - loss: 43.0052 - mae: 4.8884 - val_loss: 17.0611 - val_mae: 2.8099\n",
            "Epoch 104/300\n",
            "4/4 [==============================] - 0s 23ms/step - loss: 44.0424 - mae: 4.8462 - val_loss: 15.7397 - val_mae: 2.7072\n",
            "Epoch 105/300\n",
            "4/4 [==============================] - 0s 17ms/step - loss: 42.3439 - mae: 4.8687 - val_loss: 16.5349 - val_mae: 2.7544\n",
            "Epoch 106/300\n",
            "4/4 [==============================] - 0s 18ms/step - loss: 42.9594 - mae: 4.8461 - val_loss: 16.8024 - val_mae: 2.7770\n",
            "Epoch 107/300\n",
            "4/4 [==============================] - 0s 18ms/step - loss: 39.1198 - mae: 4.7941 - val_loss: 17.6578 - val_mae: 2.8664\n",
            "Epoch 108/300\n",
            "4/4 [==============================] - 0s 12ms/step - loss: 32.7796 - mae: 4.3423 - val_loss: 17.6471 - val_mae: 2.8721\n",
            "Epoch 109/300\n",
            "4/4 [==============================] - 0s 12ms/step - loss: 42.5418 - mae: 4.9273 - val_loss: 16.8259 - val_mae: 2.7795\n",
            "Epoch 110/300\n",
            "4/4 [==============================] - 0s 12ms/step - loss: 45.5550 - mae: 5.1070 - val_loss: 18.0987 - val_mae: 2.8820\n",
            "Epoch 111/300\n",
            "4/4 [==============================] - 0s 12ms/step - loss: 38.4798 - mae: 4.6756 - val_loss: 17.7832 - val_mae: 2.8771\n",
            "Epoch 112/300\n",
            "4/4 [==============================] - 0s 18ms/step - loss: 46.5759 - mae: 5.0829 - val_loss: 17.7879 - val_mae: 2.8719\n",
            "Epoch 113/300\n",
            "4/4 [==============================] - 0s 18ms/step - loss: 44.5166 - mae: 4.7675 - val_loss: 16.6066 - val_mae: 2.7571\n",
            "Epoch 114/300\n",
            "4/4 [==============================] - 0s 18ms/step - loss: 44.4411 - mae: 4.8722 - val_loss: 17.3102 - val_mae: 2.8154\n",
            "Epoch 115/300\n",
            "4/4 [==============================] - 0s 13ms/step - loss: 37.2946 - mae: 4.5262 - val_loss: 16.4171 - val_mae: 2.7260\n",
            "Epoch 116/300\n",
            "4/4 [==============================] - 0s 12ms/step - loss: 38.7844 - mae: 4.5799 - val_loss: 15.7898 - val_mae: 2.6829\n",
            "Epoch 117/300\n",
            "4/4 [==============================] - 0s 12ms/step - loss: 47.1375 - mae: 4.9911 - val_loss: 17.0348 - val_mae: 2.7708\n",
            "Epoch 118/300\n",
            "4/4 [==============================] - 0s 17ms/step - loss: 37.5465 - mae: 4.6723 - val_loss: 16.9268 - val_mae: 2.7724\n",
            "Epoch 119/300\n",
            "4/4 [==============================] - 0s 11ms/step - loss: 41.0114 - mae: 4.7544 - val_loss: 16.3357 - val_mae: 2.7285\n",
            "Epoch 120/300\n",
            "4/4 [==============================] - 0s 12ms/step - loss: 37.9598 - mae: 4.6207 - val_loss: 16.5650 - val_mae: 2.7690\n",
            "Epoch 121/300\n",
            "4/4 [==============================] - 0s 16ms/step - loss: 44.0282 - mae: 4.8541 - val_loss: 17.2700 - val_mae: 2.8096\n",
            "Epoch 122/300\n",
            "4/4 [==============================] - 0s 18ms/step - loss: 38.6051 - mae: 4.7410 - val_loss: 17.0116 - val_mae: 2.7928\n",
            "Epoch 123/300\n",
            "4/4 [==============================] - 0s 12ms/step - loss: 33.6305 - mae: 4.5323 - val_loss: 17.1966 - val_mae: 2.8109\n",
            "Epoch 124/300\n",
            "4/4 [==============================] - 0s 17ms/step - loss: 36.7433 - mae: 4.5927 - val_loss: 16.9241 - val_mae: 2.7876\n",
            "Epoch 124: early stopping\n"
          ]
        }
      ]
    },
    {
      "cell_type": "code",
      "source": [
        "# Load the saved model\n",
        "saved_model = load_model('model_best.h5')"
      ],
      "metadata": {
        "id": "-K64z6MkCg3b"
      },
      "execution_count": null,
      "outputs": []
    },
    {
      "cell_type": "code",
      "source": [
        "# Evaluate the saved model\n",
        "test_loss, test_mae = saved_model.evaluate(x_test, y_test)\n",
        "print(test_loss, test_mae)"
      ],
      "metadata": {
        "id": "k4Yn5vSPHjsK",
        "colab": {
          "base_uri": "https://localhost:8080/"
        },
        "outputId": "a07652c9-cace-4baa-9017-9a33114dd460"
      },
      "execution_count": null,
      "outputs": [
        {
          "output_type": "stream",
          "name": "stdout",
          "text": [
            "5/5 [==============================] - 0s 3ms/step - loss: 15.7397 - mae: 2.7072\n",
            "15.739662170410156 2.7071938514709473\n"
          ]
        }
      ]
    },
    {
      "cell_type": "markdown",
      "source": [
        "# Classification with DNN"
      ],
      "metadata": {
        "id": "9ukmkExmVf2Y"
      }
    },
    {
      "cell_type": "markdown",
      "source": [
        "## Exe 1:  Import data\n",
        "\n",
        "Import the cifra10 data set. The CIFAR-10 dataset consists of 60000\n",
        "32 x 32 colour images in 10 classes, with 6000 images per class. There are\n",
        "50000 training images and 10000 test images: https://www.tensorflow.org/datasets/catalog/cifar10"
      ],
      "metadata": {
        "id": "ki33nGO6PBw4"
      }
    },
    {
      "cell_type": "code",
      "source": [
        "data = keras . datasets . cifar10\n",
        "cifar10_data = data . load_data ()"
      ],
      "metadata": {
        "colab": {
          "base_uri": "https://localhost:8080/"
        },
        "id": "TVAGkI_1PlxE",
        "outputId": "b9dd8f26-2451-45b1-e0a2-3e14bd5b6783"
      },
      "execution_count": null,
      "outputs": [
        {
          "output_type": "stream",
          "name": "stdout",
          "text": [
            "Downloading data from https://www.cs.toronto.edu/~kriz/cifar-10-python.tar.gz\n",
            "170498071/170498071 [==============================] - 2s 0us/step\n"
          ]
        }
      ]
    },
    {
      "cell_type": "markdown",
      "source": [
        "## Exe 2 :\n",
        "\n",
        "Before using a dataset, the datatype should be checked. Test *type(cifar10 data)*\n",
        "for verifying the variable type. *len(cifar10 data)* is another command for\n",
        "checking the data size."
      ],
      "metadata": {
        "id": "2Fs6Kfq3PpAF"
      }
    },
    {
      "cell_type": "code",
      "source": [
        "type(cifar10_data)"
      ],
      "metadata": {
        "colab": {
          "base_uri": "https://localhost:8080/"
        },
        "id": "zU7mG6kZQ__a",
        "outputId": "ee3aaf39-f256-4f00-c663-06ebb6f12857"
      },
      "execution_count": null,
      "outputs": [
        {
          "output_type": "execute_result",
          "data": {
            "text/plain": [
              "tuple"
            ]
          },
          "metadata": {},
          "execution_count": 26
        }
      ]
    },
    {
      "cell_type": "code",
      "source": [
        "\n",
        "len(cifar10_data)"
      ],
      "metadata": {
        "colab": {
          "base_uri": "https://localhost:8080/"
        },
        "id": "rojeY8rwP82_",
        "outputId": "0517f28c-4a0e-420f-ae04-8fa0b868f1a1"
      },
      "execution_count": null,
      "outputs": [
        {
          "output_type": "execute_result",
          "data": {
            "text/plain": [
              "2"
            ]
          },
          "metadata": {},
          "execution_count": 27
        }
      ]
    },
    {
      "cell_type": "markdown",
      "source": [
        "## Exe 3: Train and Test\n",
        "\n",
        "Load train and test images and labels with:"
      ],
      "metadata": {
        "id": "t5nwGMbpP9rF"
      }
    },
    {
      "cell_type": "code",
      "source": [
        "(train_images, train_labels),(test_images, test_labels) = cifar10_data"
      ],
      "metadata": {
        "id": "aHu03ewPTlHP"
      },
      "execution_count": null,
      "outputs": []
    },
    {
      "cell_type": "markdown",
      "source": [
        "## Exe 4:\n",
        "\n",
        "The images are 32 x 32 NumPy arrays, with pixel values ranging from 0\n",
        "to 255. You can check an example with:"
      ],
      "metadata": {
        "id": "Bs_zxmn8Tmml"
      }
    },
    {
      "cell_type": "code",
      "source": [
        "print ( train_images[0])\n",
        "print ( train_images[0].shape )"
      ],
      "metadata": {
        "id": "EF2nXJGYTqlE",
        "colab": {
          "base_uri": "https://localhost:8080/"
        },
        "outputId": "42d1eadc-e7f5-4816-f623-a75869260271"
      },
      "execution_count": null,
      "outputs": [
        {
          "output_type": "stream",
          "name": "stdout",
          "text": [
            "[[[ 59  62  63]\n",
            "  [ 43  46  45]\n",
            "  [ 50  48  43]\n",
            "  ...\n",
            "  [158 132 108]\n",
            "  [152 125 102]\n",
            "  [148 124 103]]\n",
            "\n",
            " [[ 16  20  20]\n",
            "  [  0   0   0]\n",
            "  [ 18   8   0]\n",
            "  ...\n",
            "  [123  88  55]\n",
            "  [119  83  50]\n",
            "  [122  87  57]]\n",
            "\n",
            " [[ 25  24  21]\n",
            "  [ 16   7   0]\n",
            "  [ 49  27   8]\n",
            "  ...\n",
            "  [118  84  50]\n",
            "  [120  84  50]\n",
            "  [109  73  42]]\n",
            "\n",
            " ...\n",
            "\n",
            " [[208 170  96]\n",
            "  [201 153  34]\n",
            "  [198 161  26]\n",
            "  ...\n",
            "  [160 133  70]\n",
            "  [ 56  31   7]\n",
            "  [ 53  34  20]]\n",
            "\n",
            " [[180 139  96]\n",
            "  [173 123  42]\n",
            "  [186 144  30]\n",
            "  ...\n",
            "  [184 148  94]\n",
            "  [ 97  62  34]\n",
            "  [ 83  53  34]]\n",
            "\n",
            " [[177 144 116]\n",
            "  [168 129  94]\n",
            "  [179 142  87]\n",
            "  ...\n",
            "  [216 184 140]\n",
            "  [151 118  84]\n",
            "  [123  92  72]]]\n",
            "(32, 32, 3)\n"
          ]
        }
      ]
    },
    {
      "cell_type": "code",
      "source": [
        "np.unique(train_labels)"
      ],
      "metadata": {
        "id": "tdJasNPVTv8G",
        "colab": {
          "base_uri": "https://localhost:8080/"
        },
        "outputId": "665fd97a-74ae-430b-9a36-c06e6030f586"
      },
      "execution_count": null,
      "outputs": [
        {
          "output_type": "execute_result",
          "data": {
            "text/plain": [
              "array([0, 1, 2, 3, 4, 5, 6, 7, 8, 9], dtype=uint8)"
            ]
          },
          "metadata": {},
          "execution_count": 30
        }
      ]
    },
    {
      "cell_type": "markdown",
      "source": [
        "## Exe 5: Chek\n",
        "\n",
        "Check the dataset using the following commands:"
      ],
      "metadata": {
        "id": "Es46ai0xT26Q"
      }
    },
    {
      "cell_type": "code",
      "source": [
        "print(\"train_images shape : \",train_images.shape)\n",
        "\n",
        "print(\"train_labels size\", len(train_labels))\n",
        "\n",
        "print(\"train_labels\",train_labels)\n",
        "\n",
        "print(\"test_images shape : \",test_images.shape)\n",
        "\n",
        "print(\"test_labels\",test_labels)"
      ],
      "metadata": {
        "id": "MWaAn4KBT2C4",
        "colab": {
          "base_uri": "https://localhost:8080/"
        },
        "outputId": "0ef5e01d-f1fd-47ee-a13b-117266f91c7f"
      },
      "execution_count": null,
      "outputs": [
        {
          "output_type": "stream",
          "name": "stdout",
          "text": [
            "train_images shape :  (50000, 32, 32, 3)\n",
            "train_labels size 50000\n",
            "train_labels [[6]\n",
            " [9]\n",
            " [9]\n",
            " ...\n",
            " [9]\n",
            " [1]\n",
            " [1]]\n",
            "test_images shape :  (10000, 32, 32, 3)\n",
            "test_labels [[3]\n",
            " [8]\n",
            " [8]\n",
            " ...\n",
            " [5]\n",
            " [1]\n",
            " [7]]\n"
          ]
        }
      ]
    },
    {
      "cell_type": "markdown",
      "source": [
        "## Exe 6: Image Visualization\n",
        "\n",
        "An interesting fact about the image is that it can be plotted. To visualize an image, you can use the following code:"
      ],
      "metadata": {
        "id": "Q3rD-pstT_mN"
      }
    },
    {
      "cell_type": "code",
      "source": [
        "index = 50\n",
        "plt.figure()\n",
        "plt.imshow(train_images[index])\n",
        "plt.colorbar()\n",
        "plt.show()\n",
        "\n",
        "train_labels[index]"
      ],
      "metadata": {
        "id": "jAyspozuUD-I",
        "colab": {
          "base_uri": "https://localhost:8080/",
          "height": 447
        },
        "outputId": "8d255b45-7eb0-4a4f-cd07-ea9220f74871"
      },
      "execution_count": null,
      "outputs": [
        {
          "output_type": "display_data",
          "data": {
            "text/plain": [
              "<Figure size 640x480 with 2 Axes>"
            ],
            "image/png": "[encoded data removed]"
          },
          "metadata": {}
        },
        {
          "output_type": "execute_result",
          "data": {
            "text/plain": [
              "array([9], dtype=uint8)"
            ]
          },
          "metadata": {},
          "execution_count": 32
        }
      ]
    },
    {
      "cell_type": "markdown",
      "source": [
        "## Exe 7 : Display images and class name\n",
        "\n",
        "To verify that the data is in the correct format and that you're ready to\n",
        "build and train the network, let's display the first 25 images from the training\n",
        "set and display the class name below each image."
      ],
      "metadata": {
        "id": "Hiaui9iOUJHi"
      }
    },
    {
      "cell_type": "code",
      "source": [
        "class_names = [ 'airplane' , 'automobile' , 'bird' , 'cat' , 'deer' , 'dog' , 'frog' , 'horse' , 'ship' , 'truck']"
      ],
      "metadata": {
        "id": "8HJTPi3vULkD"
      },
      "execution_count": null,
      "outputs": []
    },
    {
      "cell_type": "code",
      "source": [
        "plt.figure(figsize=(20,20))\n",
        "for i in range(25):\n",
        "    plt.subplot(5, 5, i+1)\n",
        "    plt.xticks([])\n",
        "    plt.yticks([])\n",
        "    plt.grid(False)\n",
        "    plt.imshow(train_images[i], cmap=plt.cm.binary)\n",
        "    # The label is an index, which you'll use to access the class name\n",
        "    plt.xlabel(class_names[train_labels[i][0]])\n",
        "plt.show()"
      ],
      "metadata": {
        "id": "05yOlft8UWBa",
        "colab": {
          "base_uri": "https://localhost:8080/",
          "height": 666
        },
        "outputId": "e3340b92-64f7-4f85-d57b-08b46940e829"
      },
      "execution_count": null,
      "outputs": [
        {
          "output_type": "display_data",
          "data": {
            "text/plain": [
              "<Figure size 2000x2000 with 25 Axes>"
            ],
            "image/png": "[encoded data removed]"
          },
          "metadata": {}
        }
      ]
    },
    {
      "cell_type": "markdown",
      "source": [
        "## Exe 8: Dataset Normalization\n",
        "\n",
        "Normalize the train and test sets using the following code"
      ],
      "metadata": {
        "id": "5TMDlNttUTu5"
      }
    },
    {
      "cell_type": "code",
      "source": [
        "train_images_before = train_images\n",
        "test_images_before = test_images"
      ],
      "metadata": {
        "id": "fPI6ND4eUesV"
      },
      "execution_count": null,
      "outputs": []
    },
    {
      "cell_type": "code",
      "source": [
        "train_images = train_images.astype('float32')/255.0\n",
        "test_images = test_images.astype('float32')/255.0"
      ],
      "metadata": {
        "id": "H88JwUjfUg9S"
      },
      "execution_count": null,
      "outputs": []
    },
    {
      "cell_type": "code",
      "source": [
        "train_images"
      ],
      "metadata": {
        "id": "v7JiMXwfUkES",
        "colab": {
          "base_uri": "https://localhost:8080/"
        },
        "outputId": "82fa6d83-4236-47ab-a31c-82d0aae509f3"
      },
      "execution_count": null,
      "outputs": [
        {
          "output_type": "execute_result",
          "data": {
            "text/plain": [
              "array([[[[0.00090734, 0.00095348, 0.00096886],\n",
              "         [0.00066128, 0.00070742, 0.00069204],\n",
              "         [0.00076894, 0.00073818, 0.00066128],\n",
              "         ...,\n",
              "         [0.00242983, 0.00202999, 0.0016609 ],\n",
              "         [0.00233756, 0.00192234, 0.00156863],\n",
              "         [0.00227605, 0.00190696, 0.00158401]],\n",
              "\n",
              "        [[0.00024606, 0.00030757, 0.00030757],\n",
              "         [0.        , 0.        , 0.        ],\n",
              "         [0.00027682, 0.00012303, 0.        ],\n",
              "         ...,\n",
              "         [0.00189158, 0.00135333, 0.00084583],\n",
              "         [0.00183007, 0.00127643, 0.00076894],\n",
              "         [0.0018762 , 0.00133795, 0.00087659]],\n",
              "\n",
              "        [[0.00038447, 0.00036909, 0.00032295],\n",
              "         [0.00024606, 0.00010765, 0.        ],\n",
              "         [0.00075356, 0.00041522, 0.00012303],\n",
              "         ...,\n",
              "         [0.00181469, 0.00129181, 0.00076894],\n",
              "         [0.00184544, 0.00129181, 0.00076894],\n",
              "         [0.00167628, 0.00112265, 0.00064591]],\n",
              "\n",
              "        ...,\n",
              "\n",
              "        [[0.00319877, 0.00261438, 0.00147636],\n",
              "         [0.00309112, 0.00235294, 0.00052288],\n",
              "         [0.00304498, 0.00247597, 0.00039985],\n",
              "         ...,\n",
              "         [0.00246059, 0.00204537, 0.00107651],\n",
              "         [0.00086121, 0.00047674, 0.00010765],\n",
              "         [0.00081507, 0.00052288, 0.00030757]],\n",
              "\n",
              "        [[0.00276817, 0.00213764, 0.00147636],\n",
              "         [0.00266052, 0.00189158, 0.00064591],\n",
              "         [0.00286044, 0.00221453, 0.00046136],\n",
              "         ...,\n",
              "         [0.00282968, 0.00227605, 0.0014456 ],\n",
              "         [0.00149173, 0.00095348, 0.00052288],\n",
              "         [0.00127643, 0.00081507, 0.00052288]],\n",
              "\n",
              "        [[0.00272203, 0.00221453, 0.00178393],\n",
              "         [0.00258362, 0.00198385, 0.0014456 ],\n",
              "         [0.00275279, 0.00218378, 0.00133795],\n",
              "         ...,\n",
              "         [0.0033218 , 0.00282968, 0.00215302],\n",
              "         [0.00232218, 0.00181469, 0.00129181],\n",
              "         [0.00189158, 0.00141484, 0.00110727]]],\n",
              "\n",
              "\n",
              "       [[[0.00236832, 0.00272203, 0.00287582],\n",
              "         [0.00193772, 0.00210688, 0.0020915 ],\n",
              "         [0.00161476, 0.00159938, 0.00146098],\n",
              "         ...,\n",
              "         [0.00139946, 0.00146098, 0.00109189],\n",
              "         [0.00133795, 0.00138408, 0.00109189],\n",
              "         [0.00121492, 0.00124567, 0.00107651]],\n",
              "\n",
              "        [[0.00215302, 0.00246059, 0.002599  ],\n",
              "         [0.00222991, 0.00235294, 0.00236832],\n",
              "         [0.00192234, 0.00192234, 0.00181469],\n",
              "         ...,\n",
              "         [0.00147636, 0.00152249, 0.00119954],\n",
              "         [0.00118416, 0.0012303 , 0.00095348],\n",
              "         [0.00109189, 0.00112265, 0.0009381 ]],\n",
              "\n",
              "        [[0.00215302, 0.0023837 , 0.00252211],\n",
              "         [0.00213764, 0.00224529, 0.00229143],\n",
              "         [0.00176855, 0.00176855, 0.00172241],\n",
              "         ...,\n",
              "         [0.00121492, 0.00126105, 0.00098424],\n",
              "         [0.00104575, 0.00107651, 0.00084583],\n",
              "         [0.00103037, 0.00106113, 0.00084583]],\n",
              "\n",
              "        ...,\n",
              "\n",
              "        [[0.00269127, 0.00256824, 0.00255286],\n",
              "         [0.00239908, 0.00236832, 0.00246059],\n",
              "         [0.00236832, 0.00246059, 0.00261438],\n",
              "         ...,\n",
              "         [0.00064591, 0.00052288, 0.00055363],\n",
              "         [0.0009381 , 0.00081507, 0.00087659],\n",
              "         [0.00143022, 0.00127643, 0.00139946]],\n",
              "\n",
              "        [[0.00253749, 0.00236832, 0.00196847],\n",
              "         [0.00239908, 0.00233756, 0.00199923],\n",
              "         [0.00244521, 0.00247597, 0.00218378],\n",
              "         ...,\n",
              "         [0.00158401, 0.00143022, 0.00147636],\n",
              "         [0.00189158, 0.00175317, 0.00184544],\n",
              "         [0.00201461, 0.00186082, 0.00201461]],\n",
              "\n",
              "        [[0.00250673, 0.00227605, 0.00184544],\n",
              "         [0.00242983, 0.00227605, 0.0018762 ],\n",
              "         [0.00250673, 0.00239908, 0.00204537],\n",
              "         ...,\n",
              "         [0.00219915, 0.00204537, 0.00213764],\n",
              "         [0.00219915, 0.00206075, 0.00218378],\n",
              "         [0.00219915, 0.00204537, 0.00221453]]],\n",
              "\n",
              "\n",
              "       [[[0.00392157, 0.00392157, 0.00392157],\n",
              "         [0.00389081, 0.00389081, 0.00389081],\n",
              "         [0.00389081, 0.00389081, 0.00389081],\n",
              "         ...,\n",
              "         [0.00389081, 0.00389081, 0.00389081],\n",
              "         [0.00389081, 0.00389081, 0.00389081],\n",
              "         [0.00389081, 0.00389081, 0.00389081]],\n",
              "\n",
              "        [[0.00392157, 0.00392157, 0.00392157],\n",
              "         [0.00392157, 0.00392157, 0.00392157],\n",
              "         [0.00392157, 0.00392157, 0.00392157],\n",
              "         ...,\n",
              "         [0.00392157, 0.00392157, 0.00392157],\n",
              "         [0.00392157, 0.00392157, 0.00392157],\n",
              "         [0.00392157, 0.00392157, 0.00392157]],\n",
              "\n",
              "        [[0.00392157, 0.00392157, 0.00392157],\n",
              "         [0.00390619, 0.00390619, 0.00390619],\n",
              "         [0.00390619, 0.00390619, 0.00390619],\n",
              "         ...,\n",
              "         [0.00390619, 0.00390619, 0.00390619],\n",
              "         [0.00390619, 0.00390619, 0.00390619],\n",
              "         [0.00390619, 0.00390619, 0.00390619]],\n",
              "\n",
              "        ...,\n",
              "\n",
              "        [[0.00173779, 0.00184544, 0.00172241],\n",
              "         [0.00170704, 0.00181469, 0.00170704],\n",
              "         [0.00161476, 0.00172241, 0.00163014],\n",
              "         ...,\n",
              "         [0.00110727, 0.00124567, 0.0012303 ],\n",
              "         [0.00110727, 0.0012303 , 0.00121492],\n",
              "         [0.00110727, 0.0012303 , 0.00121492]],\n",
              "\n",
              "        [[0.00170704, 0.00181469, 0.00169166],\n",
              "         [0.00159938, 0.00170704, 0.00159938],\n",
              "         [0.00152249, 0.00163014, 0.00150711],\n",
              "         ...,\n",
              "         [0.00104575, 0.0011534 , 0.00112265],\n",
              "         [0.00107651, 0.00116878, 0.0011534 ],\n",
              "         [0.00119954, 0.00129181, 0.00126105]],\n",
              "\n",
              "        [[0.00163014, 0.00173779, 0.00161476],\n",
              "         [0.00152249, 0.00163014, 0.00150711],\n",
              "         [0.00146098, 0.00156863, 0.0014456 ],\n",
              "         ...,\n",
              "         [0.00119954, 0.00130719, 0.00127643],\n",
              "         [0.00121492, 0.00130719, 0.00127643],\n",
              "         [0.0012303 , 0.00132257, 0.00129181]]],\n",
              "\n",
              "\n",
              "       ...,\n",
              "\n",
              "\n",
              "       [[[0.00053825, 0.00273741, 0.00361399],\n",
              "         [0.00061515, 0.00270665, 0.00367551],\n",
              "         [0.00064591, 0.00270665, 0.00370627],\n",
              "         ...,\n",
              "         [0.00152249, 0.00272203, 0.00336794],\n",
              "         [0.00121492, 0.00226067, 0.0030296 ],\n",
              "         [0.0013687 , 0.00227605, 0.00290657]],\n",
              "\n",
              "        [[0.00087659, 0.00279892, 0.00359862],\n",
              "         [0.00067666, 0.00282968, 0.00384468],\n",
              "         [0.00076894, 0.0028143 , 0.00369089],\n",
              "         ...,\n",
              "         [0.00239908, 0.00279892, 0.00307574],\n",
              "         [0.0021684 , 0.00272203, 0.00316801],\n",
              "         [0.00178393, 0.00229143, 0.00269127]],\n",
              "\n",
              "        [[0.00150711, 0.0030296 , 0.00364475],\n",
              "         [0.00098424, 0.00290657, 0.00387543],\n",
              "         [0.00106113, 0.00295271, 0.00376778],\n",
              "         ...,\n",
              "         [0.0028912 , 0.00299885, 0.00316801],\n",
              "         [0.00183007, 0.00207612, 0.00226067],\n",
              "         [0.0009381 , 0.00121492, 0.00138408]],\n",
              "\n",
              "        ...,\n",
              "\n",
              "        [[0.00112265, 0.00121492, 0.00118416],\n",
              "         [0.00081507, 0.00096886, 0.00104575],\n",
              "         [0.00083045, 0.00104575, 0.0012303 ],\n",
              "         ...,\n",
              "         [0.00026144, 0.00061515, 0.00098424],\n",
              "         [0.00032295, 0.00055363, 0.00078431],\n",
              "         [0.0005075 , 0.00073818, 0.00075356]],\n",
              "\n",
              "        [[0.0009381 , 0.00104575, 0.0011534 ],\n",
              "         [0.00084583, 0.00107651, 0.00132257],\n",
              "         [0.00087659, 0.00121492, 0.00158401],\n",
              "         ...,\n",
              "         [0.00036909, 0.00073818, 0.00110727],\n",
              "         [0.00026144, 0.00053825, 0.00081507],\n",
              "         [0.00010765, 0.00035371, 0.00049212]],\n",
              "\n",
              "        [[0.00067666, 0.00086121, 0.00112265],\n",
              "         [0.00070742, 0.00101499, 0.00135333],\n",
              "         [0.00075356, 0.00118416, 0.00161476],\n",
              "         ...,\n",
              "         [0.00041522, 0.00079969, 0.00118416],\n",
              "         [0.00032295, 0.00066128, 0.00101499],\n",
              "         [0.00018454, 0.00047674, 0.00076894]]],\n",
              "\n",
              "\n",
              "       [[[0.00290657, 0.00324491, 0.00369089],\n",
              "         [0.00286044, 0.00319877, 0.00362937],\n",
              "         [0.00284506, 0.00318339, 0.00361399],\n",
              "         ...,\n",
              "         [0.00269127, 0.00299885, 0.00344483],\n",
              "         [0.00264514, 0.00298347, 0.00341407],\n",
              "         [0.002599  , 0.00298347, 0.00338331]],\n",
              "\n",
              "        [[0.00298347, 0.00322953, 0.00367551],\n",
              "         [0.00293733, 0.00318339, 0.00362937],\n",
              "         [0.00292195, 0.00316801, 0.00361399],\n",
              "         ...,\n",
              "         [0.00266052, 0.00295271, 0.00338331],\n",
              "         [0.00262976, 0.00293733, 0.00335256],\n",
              "         [0.00256824, 0.00292195, 0.0033218 ]],\n",
              "\n",
              "        [[0.00319877, 0.00336794, 0.0037524 ],\n",
              "         [0.00315263, 0.0033218 , 0.00369089],\n",
              "         [0.00313725, 0.00330642, 0.00367551],\n",
              "         ...,\n",
              "         [0.00269127, 0.00293733, 0.00333718],\n",
              "         [0.00264514, 0.00292195, 0.0033218 ],\n",
              "         [0.002599  , 0.00293733, 0.00330642]],\n",
              "\n",
              "        ...,\n",
              "\n",
              "        [[0.00318339, 0.00306036, 0.00278354],\n",
              "         [0.00312188, 0.00299885, 0.00269127],\n",
              "         [0.00312188, 0.00301423, 0.00266052],\n",
              "         ...,\n",
              "         [0.00207612, 0.00202999, 0.00195309],\n",
              "         [0.00249135, 0.00242983, 0.00230681],\n",
              "         [0.00258362, 0.00250673, 0.00232218]],\n",
              "\n",
              "        [[0.00304498, 0.00292195, 0.00261438],\n",
              "         [0.00290657, 0.00278354, 0.00244521],\n",
              "         [0.00276817, 0.00264514, 0.00226067],\n",
              "         ...,\n",
              "         [0.00273741, 0.00262976, 0.00246059],\n",
              "         [0.00269127, 0.002599  , 0.00239908],\n",
              "         [0.00269127, 0.002599  , 0.00236832]],\n",
              "\n",
              "        [[0.00304498, 0.00290657, 0.00266052],\n",
              "         [0.00290657, 0.00278354, 0.00249135],\n",
              "         [0.00273741, 0.00261438, 0.00229143],\n",
              "         ...,\n",
              "         [0.00299885, 0.00282968, 0.002599  ],\n",
              "         [0.00301423, 0.00290657, 0.00262976],\n",
              "         [0.00299885, 0.00292195, 0.00262976]]],\n",
              "\n",
              "\n",
              "       [[[0.00352172, 0.00352172, 0.00367551],\n",
              "         [0.00362937, 0.00364475, 0.00379854],\n",
              "         [0.00359862, 0.00362937, 0.00379854],\n",
              "         ...,\n",
              "         [0.00333718, 0.00336794, 0.00358324],\n",
              "         [0.00339869, 0.00342945, 0.00359862],\n",
              "         [0.00341407, 0.00342945, 0.00358324]],\n",
              "\n",
              "        [[0.00341407, 0.00339869, 0.00352172],\n",
              "         [0.00367551, 0.00367551, 0.0038293 ],\n",
              "         [0.00358324, 0.00359862, 0.00378316],\n",
              "         ...,\n",
              "         [0.00342945, 0.00342945, 0.00362937],\n",
              "         [0.00349097, 0.00350634, 0.00366013],\n",
              "         [0.00322953, 0.00324491, 0.00338331]],\n",
              "\n",
              "        [[0.00327566, 0.00316801, 0.00324491],\n",
              "         [0.00359862, 0.00356786, 0.00367551],\n",
              "         [0.00355248, 0.00358324, 0.0037524 ],\n",
              "         ...,\n",
              "         [0.00338331, 0.00338331, 0.00356786],\n",
              "         [0.00338331, 0.00336794, 0.00356786],\n",
              "         [0.0031065 , 0.00312188, 0.00330642]],\n",
              "\n",
              "        ...,\n",
              "\n",
              "        [[0.00230681, 0.00219915, 0.00207612],\n",
              "         [0.00215302, 0.00207612, 0.00195309],\n",
              "         [0.00202999, 0.00195309, 0.00184544],\n",
              "         ...,\n",
              "         [0.00344483, 0.00341407, 0.00335256],\n",
              "         [0.0035371 , 0.00350634, 0.00346021],\n",
              "         [0.00370627, 0.00370627, 0.00366013]],\n",
              "\n",
              "        [[0.00210688, 0.00202999, 0.00193772],\n",
              "         [0.00199923, 0.00195309, 0.00184544],\n",
              "         [0.00192234, 0.00186082, 0.00176855],\n",
              "         ...,\n",
              "         [0.00278354, 0.00276817, 0.00273741],\n",
              "         [0.0031065 , 0.00309112, 0.00304498],\n",
              "         [0.00326028, 0.00324491, 0.00318339]],\n",
              "\n",
              "        [[0.0018762 , 0.00183007, 0.00175317],\n",
              "         [0.00181469, 0.00178393, 0.00169166],\n",
              "         [0.00184544, 0.00178393, 0.00170704],\n",
              "         ...,\n",
              "         [0.00275279, 0.00272203, 0.00266052],\n",
              "         [0.00252211, 0.00252211, 0.00249135],\n",
              "         [0.00250673, 0.00250673, 0.00247597]]]], dtype=float32)"
            ]
          },
          "metadata": {},
          "execution_count": 48
        }
      ]
    },
    {
      "cell_type": "markdown",
      "source": [
        "## Exo 9: Model\n",
        "\n",
        "Build a neural network with the following structure:\n",
        "\n",
        "\n",
        "1.   The first layer should be a **Flatten** layer that transforms the format of the images from a two-dimensional array (32 by 32 pixels) to a one-dimensional array (1024 pixels). This layer simply unstacks the rows of pixels in the image and lines them up. It has no parameters to learn and only reformats the data.\n",
        "\n",
        "2.   After the pixels are flattened, the network should consist of two **Dense** layers. The first **Dense** layer should have 128 neurons.\n",
        "\n",
        "3.   The second (and last) layer should be a **softmax** layer with 10 neurons, which returns an array of 10 probability scores that sum to 1. Each neuron contains a score indicating the probability that the current image belongs to one of the 10 classes."
      ],
      "metadata": {
        "id": "n3byMSmNUos5"
      }
    },
    {
      "cell_type": "code",
      "source": [
        "from tensorflow import keras\n",
        "from tensorflow.keras import layers"
      ],
      "metadata": {
        "id": "-rkfrbpaaWRj"
      },
      "execution_count": null,
      "outputs": []
    },
    {
      "cell_type": "code",
      "source": [
        "model = keras.Sequential([\n",
        "    # First layer: Correctly flattened input considering color channels\n",
        "    layers.Flatten(input_shape=(32, 32, 3)),  # Now correctly assuming color images\n",
        "\n",
        "    # Second layer: Dense layer with 128 neurons\n",
        "    layers.Dense(128, activation='relu'),\n",
        "\n",
        "    # Third layer: Softmax layer with 10 neurons for classification\n",
        "    layers.Dense(10, activation='softmax')\n",
        "])"
      ],
      "metadata": {
        "id": "4QuOBz6vUsvH"
      },
      "execution_count": null,
      "outputs": []
    },
    {
      "cell_type": "markdown",
      "source": [
        "## Exe 10: Train the model\n",
        "\n",
        "Compile the model using the appropriate optimizer, loss function, and metrics. Set the optimizer to 'adam', the loss function to 'sparse_categorical_crossentropy', and the metric to 'accuracy'.\n",
        "\n",
        "Train the model, using the fit method on the model object. Pass in the train_images as the training data and train_labels as the corresponding labels."
      ],
      "metadata": {
        "id": "I6nx9weiU4Zp"
      }
    },
    {
      "cell_type": "code",
      "source": [
        "model.compile(optimizer='adam',\n",
        "              loss='sparse_categorical_crossentropy',\n",
        "              metrics=['accuracy'])"
      ],
      "metadata": {
        "id": "qU6jh_NpU5T_"
      },
      "execution_count": null,
      "outputs": []
    },
    {
      "cell_type": "code",
      "source": [
        "model.fit(train_images, train_labels, batch_size=64, epochs=10)"
      ],
      "metadata": {
        "id": "f9jDzezRVCVv",
        "colab": {
          "base_uri": "https://localhost:8080/"
        },
        "outputId": "095603b2-1490-4c59-8986-061002c899d7"
      },
      "execution_count": null,
      "outputs": [
        {
          "output_type": "stream",
          "name": "stdout",
          "text": [
            "Epoch 1/10\n",
            "782/782 [==============================] - 3s 3ms/step - loss: 2.0925 - accuracy: 0.2414\n",
            "Epoch 2/10\n",
            "782/782 [==============================] - 3s 3ms/step - loss: 1.9233 - accuracy: 0.3170\n",
            "Epoch 3/10\n",
            "782/782 [==============================] - 3s 3ms/step - loss: 1.8718 - accuracy: 0.3394\n",
            "Epoch 4/10\n",
            "782/782 [==============================] - 2s 3ms/step - loss: 1.8331 - accuracy: 0.3532\n",
            "Epoch 5/10\n",
            "782/782 [==============================] - 2s 3ms/step - loss: 1.8017 - accuracy: 0.3651\n",
            "Epoch 6/10\n",
            "782/782 [==============================] - 2s 3ms/step - loss: 1.7737 - accuracy: 0.3730\n",
            "Epoch 7/10\n",
            "782/782 [==============================] - 2s 3ms/step - loss: 1.7487 - accuracy: 0.3830\n",
            "Epoch 8/10\n",
            "782/782 [==============================] - 3s 4ms/step - loss: 1.7262 - accuracy: 0.3913\n",
            "Epoch 9/10\n",
            "782/782 [==============================] - 2s 3ms/step - loss: 1.7041 - accuracy: 0.4000\n",
            "Epoch 10/10\n",
            "782/782 [==============================] - 2s 3ms/step - loss: 1.6853 - accuracy: 0.4056\n"
          ]
        },
        {
          "output_type": "execute_result",
          "data": {
            "text/plain": [
              "<keras.src.callbacks.History at 0x7a008cf51fc0>"
            ]
          },
          "metadata": {},
          "execution_count": 64
        }
      ]
    },
    {
      "cell_type": "markdown",
      "source": [
        "## Exe 11: Evaluate the model\n",
        "\n",
        "Chek the model performance on the test dataset."
      ],
      "metadata": {
        "id": "IHZX17lKVTg6"
      }
    },
    {
      "cell_type": "code",
      "source": [
        "Ex11: test_loss, test_acc = model.evaluate(test_images,test_labels)\n",
        "\n",
        "print('\\nTest accuracy:', test_acc)"
      ],
      "metadata": {
        "id": "NJelBNIzVY1o"
      },
      "execution_count": null,
      "outputs": []
    },
    {
      "cell_type": "markdown",
      "source": [
        "# Homework Assignment: Deep Neural Network Classification with Fashion MNIST\n",
        "\n",
        "Redo the classification part, this time utilizing the Fashion MNIST dataset and a DNN model with three Dense layers. The first and second Dense layers should have 128 neurons each. Additionally, incorporate the following specifications:\n",
        "\n",
        "* Apply dropout after each hidden layer with a dropout rate of 0.25 (25% of neurons dropped randomly for the subsequent layer).\n",
        "*  Set the batch size to 512.\n",
        "*  Implement early stopping while fitting the model with a patience value of 20 and a maximum number of epochs set to 200.\n",
        "*  Save the best model as 'model_best'.\n",
        "*  Evaluate the saved model on the test data.\n",
        "\n",
        "**For the submission of your work, please submit your completed assignment in HTML format.**\n",
        "\n"
      ],
      "metadata": {
        "id": "4ODJiuu3u4JE"
      }
    },
    {
      "cell_type": "markdown",
      "source": [
        "# Converting a notebook to html"
      ],
      "metadata": {
        "id": "ajp5lR0OrInH"
      }
    },
    {
      "cell_type": "code",
      "source": [
        "from google.colab import drive\n",
        "drive.mount('/content/gdrive')\n",
        "#%%shell\n",
        "!jupyter nbconvert --to html '/content/gdrive/MyDrive/Colab Notebooks/DL_Lab1_NN.ipynb'"
      ],
      "metadata": {
        "id": "a-0EJTVlrHYe"
      },
      "execution_count": null,
      "outputs": []
    }
  ]
}